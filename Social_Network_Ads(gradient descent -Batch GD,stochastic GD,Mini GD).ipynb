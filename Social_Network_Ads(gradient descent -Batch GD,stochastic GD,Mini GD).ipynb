{
 "cells": [
  {
   "cell_type": "code",
   "execution_count": 1,
   "id": "3b879fe0",
   "metadata": {},
   "outputs": [],
   "source": [
    "import pandas as pd\n",
    "import numpy as np"
   ]
  },
  {
   "cell_type": "code",
   "execution_count": 2,
   "id": "07bc0b15",
   "metadata": {},
   "outputs": [],
   "source": [
    "Data=pd.read_csv(r\"C:\\Users\\Admin\\Downloads\\Social_Network_Ads (3).csv\")"
   ]
  },
  {
   "cell_type": "code",
   "execution_count": 3,
   "id": "55d93d00",
   "metadata": {},
   "outputs": [
    {
     "data": {
      "text/html": [
       "<div>\n",
       "<style scoped>\n",
       "    .dataframe tbody tr th:only-of-type {\n",
       "        vertical-align: middle;\n",
       "    }\n",
       "\n",
       "    .dataframe tbody tr th {\n",
       "        vertical-align: top;\n",
       "    }\n",
       "\n",
       "    .dataframe thead th {\n",
       "        text-align: right;\n",
       "    }\n",
       "</style>\n",
       "<table border=\"1\" class=\"dataframe\">\n",
       "  <thead>\n",
       "    <tr style=\"text-align: right;\">\n",
       "      <th></th>\n",
       "      <th>Age</th>\n",
       "      <th>EstimatedSalary</th>\n",
       "      <th>Purchased</th>\n",
       "    </tr>\n",
       "  </thead>\n",
       "  <tbody>\n",
       "    <tr>\n",
       "      <th>0</th>\n",
       "      <td>19</td>\n",
       "      <td>19000</td>\n",
       "      <td>0</td>\n",
       "    </tr>\n",
       "    <tr>\n",
       "      <th>1</th>\n",
       "      <td>35</td>\n",
       "      <td>20000</td>\n",
       "      <td>0</td>\n",
       "    </tr>\n",
       "    <tr>\n",
       "      <th>2</th>\n",
       "      <td>26</td>\n",
       "      <td>43000</td>\n",
       "      <td>0</td>\n",
       "    </tr>\n",
       "    <tr>\n",
       "      <th>3</th>\n",
       "      <td>27</td>\n",
       "      <td>57000</td>\n",
       "      <td>0</td>\n",
       "    </tr>\n",
       "    <tr>\n",
       "      <th>4</th>\n",
       "      <td>19</td>\n",
       "      <td>76000</td>\n",
       "      <td>0</td>\n",
       "    </tr>\n",
       "  </tbody>\n",
       "</table>\n",
       "</div>"
      ],
      "text/plain": [
       "   Age  EstimatedSalary  Purchased\n",
       "0   19            19000          0\n",
       "1   35            20000          0\n",
       "2   26            43000          0\n",
       "3   27            57000          0\n",
       "4   19            76000          0"
      ]
     },
     "execution_count": 3,
     "metadata": {},
     "output_type": "execute_result"
    }
   ],
   "source": [
    "Data.head()"
   ]
  },
  {
   "cell_type": "code",
   "execution_count": 4,
   "id": "7e58b3d3",
   "metadata": {},
   "outputs": [
    {
     "name": "stdout",
     "output_type": "stream",
     "text": [
      "<class 'pandas.core.frame.DataFrame'>\n",
      "RangeIndex: 400 entries, 0 to 399\n",
      "Data columns (total 3 columns):\n",
      " #   Column           Non-Null Count  Dtype\n",
      "---  ------           --------------  -----\n",
      " 0   Age              400 non-null    int64\n",
      " 1   EstimatedSalary  400 non-null    int64\n",
      " 2   Purchased        400 non-null    int64\n",
      "dtypes: int64(3)\n",
      "memory usage: 9.5 KB\n"
     ]
    }
   ],
   "source": [
    "Data.info()"
   ]
  },
  {
   "cell_type": "code",
   "execution_count": 5,
   "id": "9ec7daa1",
   "metadata": {},
   "outputs": [
    {
     "data": {
      "text/html": [
       "<div>\n",
       "<style scoped>\n",
       "    .dataframe tbody tr th:only-of-type {\n",
       "        vertical-align: middle;\n",
       "    }\n",
       "\n",
       "    .dataframe tbody tr th {\n",
       "        vertical-align: top;\n",
       "    }\n",
       "\n",
       "    .dataframe thead th {\n",
       "        text-align: right;\n",
       "    }\n",
       "</style>\n",
       "<table border=\"1\" class=\"dataframe\">\n",
       "  <thead>\n",
       "    <tr style=\"text-align: right;\">\n",
       "      <th></th>\n",
       "      <th>Age</th>\n",
       "      <th>EstimatedSalary</th>\n",
       "      <th>Purchased</th>\n",
       "    </tr>\n",
       "  </thead>\n",
       "  <tbody>\n",
       "    <tr>\n",
       "      <th>count</th>\n",
       "      <td>400.000000</td>\n",
       "      <td>400.000000</td>\n",
       "      <td>400.000000</td>\n",
       "    </tr>\n",
       "    <tr>\n",
       "      <th>mean</th>\n",
       "      <td>37.655000</td>\n",
       "      <td>69742.500000</td>\n",
       "      <td>0.357500</td>\n",
       "    </tr>\n",
       "    <tr>\n",
       "      <th>std</th>\n",
       "      <td>10.482877</td>\n",
       "      <td>34096.960282</td>\n",
       "      <td>0.479864</td>\n",
       "    </tr>\n",
       "    <tr>\n",
       "      <th>min</th>\n",
       "      <td>18.000000</td>\n",
       "      <td>15000.000000</td>\n",
       "      <td>0.000000</td>\n",
       "    </tr>\n",
       "    <tr>\n",
       "      <th>25%</th>\n",
       "      <td>29.750000</td>\n",
       "      <td>43000.000000</td>\n",
       "      <td>0.000000</td>\n",
       "    </tr>\n",
       "    <tr>\n",
       "      <th>50%</th>\n",
       "      <td>37.000000</td>\n",
       "      <td>70000.000000</td>\n",
       "      <td>0.000000</td>\n",
       "    </tr>\n",
       "    <tr>\n",
       "      <th>75%</th>\n",
       "      <td>46.000000</td>\n",
       "      <td>88000.000000</td>\n",
       "      <td>1.000000</td>\n",
       "    </tr>\n",
       "    <tr>\n",
       "      <th>max</th>\n",
       "      <td>60.000000</td>\n",
       "      <td>150000.000000</td>\n",
       "      <td>1.000000</td>\n",
       "    </tr>\n",
       "  </tbody>\n",
       "</table>\n",
       "</div>"
      ],
      "text/plain": [
       "              Age  EstimatedSalary   Purchased\n",
       "count  400.000000       400.000000  400.000000\n",
       "mean    37.655000     69742.500000    0.357500\n",
       "std     10.482877     34096.960282    0.479864\n",
       "min     18.000000     15000.000000    0.000000\n",
       "25%     29.750000     43000.000000    0.000000\n",
       "50%     37.000000     70000.000000    0.000000\n",
       "75%     46.000000     88000.000000    1.000000\n",
       "max     60.000000    150000.000000    1.000000"
      ]
     },
     "execution_count": 5,
     "metadata": {},
     "output_type": "execute_result"
    }
   ],
   "source": [
    "Data.describe()"
   ]
  },
  {
   "cell_type": "code",
   "execution_count": 6,
   "id": "7ef66cd8",
   "metadata": {},
   "outputs": [
    {
     "data": {
      "text/plain": [
       "Age                False\n",
       "EstimatedSalary    False\n",
       "Purchased          False\n",
       "dtype: bool"
      ]
     },
     "execution_count": 6,
     "metadata": {},
     "output_type": "execute_result"
    }
   ],
   "source": [
    "Data.isnull().any()"
   ]
  },
  {
   "cell_type": "code",
   "execution_count": 7,
   "id": "b18efe71",
   "metadata": {},
   "outputs": [
    {
     "data": {
      "text/plain": [
       "0    257\n",
       "1    143\n",
       "Name: Purchased, dtype: int64"
      ]
     },
     "execution_count": 7,
     "metadata": {},
     "output_type": "execute_result"
    }
   ],
   "source": [
    "Data['Purchased'].value_counts()"
   ]
  },
  {
   "cell_type": "code",
   "execution_count": 8,
   "id": "3f5adff0",
   "metadata": {},
   "outputs": [],
   "source": [
    "x=Data.iloc[:,:-1].values\n",
    "y=Data.iloc[:,-1].values"
   ]
  },
  {
   "cell_type": "code",
   "execution_count": 9,
   "id": "35e7213c",
   "metadata": {},
   "outputs": [
    {
     "data": {
      "text/plain": [
       "array([[    19,  19000],\n",
       "       [    35,  20000],\n",
       "       [    26,  43000],\n",
       "       [    27,  57000],\n",
       "       [    19,  76000],\n",
       "       [    27,  58000],\n",
       "       [    27,  84000],\n",
       "       [    32, 150000],\n",
       "       [    25,  33000],\n",
       "       [    35,  65000],\n",
       "       [    26,  80000],\n",
       "       [    26,  52000],\n",
       "       [    20,  86000],\n",
       "       [    32,  18000],\n",
       "       [    18,  82000],\n",
       "       [    29,  80000],\n",
       "       [    47,  25000],\n",
       "       [    45,  26000],\n",
       "       [    46,  28000],\n",
       "       [    48,  29000],\n",
       "       [    45,  22000],\n",
       "       [    47,  49000],\n",
       "       [    48,  41000],\n",
       "       [    45,  22000],\n",
       "       [    46,  23000],\n",
       "       [    47,  20000],\n",
       "       [    49,  28000],\n",
       "       [    47,  30000],\n",
       "       [    29,  43000],\n",
       "       [    31,  18000],\n",
       "       [    31,  74000],\n",
       "       [    27, 137000],\n",
       "       [    21,  16000],\n",
       "       [    28,  44000],\n",
       "       [    27,  90000],\n",
       "       [    35,  27000],\n",
       "       [    33,  28000],\n",
       "       [    30,  49000],\n",
       "       [    26,  72000],\n",
       "       [    27,  31000],\n",
       "       [    27,  17000],\n",
       "       [    33,  51000],\n",
       "       [    35, 108000],\n",
       "       [    30,  15000],\n",
       "       [    28,  84000],\n",
       "       [    23,  20000],\n",
       "       [    25,  79000],\n",
       "       [    27,  54000],\n",
       "       [    30, 135000],\n",
       "       [    31,  89000],\n",
       "       [    24,  32000],\n",
       "       [    18,  44000],\n",
       "       [    29,  83000],\n",
       "       [    35,  23000],\n",
       "       [    27,  58000],\n",
       "       [    24,  55000],\n",
       "       [    23,  48000],\n",
       "       [    28,  79000],\n",
       "       [    22,  18000],\n",
       "       [    32, 117000],\n",
       "       [    27,  20000],\n",
       "       [    25,  87000],\n",
       "       [    23,  66000],\n",
       "       [    32, 120000],\n",
       "       [    59,  83000],\n",
       "       [    24,  58000],\n",
       "       [    24,  19000],\n",
       "       [    23,  82000],\n",
       "       [    22,  63000],\n",
       "       [    31,  68000],\n",
       "       [    25,  80000],\n",
       "       [    24,  27000],\n",
       "       [    20,  23000],\n",
       "       [    33, 113000],\n",
       "       [    32,  18000],\n",
       "       [    34, 112000],\n",
       "       [    18,  52000],\n",
       "       [    22,  27000],\n",
       "       [    28,  87000],\n",
       "       [    26,  17000],\n",
       "       [    30,  80000],\n",
       "       [    39,  42000],\n",
       "       [    20,  49000],\n",
       "       [    35,  88000],\n",
       "       [    30,  62000],\n",
       "       [    31, 118000],\n",
       "       [    24,  55000],\n",
       "       [    28,  85000],\n",
       "       [    26,  81000],\n",
       "       [    35,  50000],\n",
       "       [    22,  81000],\n",
       "       [    30, 116000],\n",
       "       [    26,  15000],\n",
       "       [    29,  28000],\n",
       "       [    29,  83000],\n",
       "       [    35,  44000],\n",
       "       [    35,  25000],\n",
       "       [    28, 123000],\n",
       "       [    35,  73000],\n",
       "       [    28,  37000],\n",
       "       [    27,  88000],\n",
       "       [    28,  59000],\n",
       "       [    32,  86000],\n",
       "       [    33, 149000],\n",
       "       [    19,  21000],\n",
       "       [    21,  72000],\n",
       "       [    26,  35000],\n",
       "       [    27,  89000],\n",
       "       [    26,  86000],\n",
       "       [    38,  80000],\n",
       "       [    39,  71000],\n",
       "       [    37,  71000],\n",
       "       [    38,  61000],\n",
       "       [    37,  55000],\n",
       "       [    42,  80000],\n",
       "       [    40,  57000],\n",
       "       [    35,  75000],\n",
       "       [    36,  52000],\n",
       "       [    40,  59000],\n",
       "       [    41,  59000],\n",
       "       [    36,  75000],\n",
       "       [    37,  72000],\n",
       "       [    40,  75000],\n",
       "       [    35,  53000],\n",
       "       [    41,  51000],\n",
       "       [    39,  61000],\n",
       "       [    42,  65000],\n",
       "       [    26,  32000],\n",
       "       [    30,  17000],\n",
       "       [    26,  84000],\n",
       "       [    31,  58000],\n",
       "       [    33,  31000],\n",
       "       [    30,  87000],\n",
       "       [    21,  68000],\n",
       "       [    28,  55000],\n",
       "       [    23,  63000],\n",
       "       [    20,  82000],\n",
       "       [    30, 107000],\n",
       "       [    28,  59000],\n",
       "       [    19,  25000],\n",
       "       [    19,  85000],\n",
       "       [    18,  68000],\n",
       "       [    35,  59000],\n",
       "       [    30,  89000],\n",
       "       [    34,  25000],\n",
       "       [    24,  89000],\n",
       "       [    27,  96000],\n",
       "       [    41,  30000],\n",
       "       [    29,  61000],\n",
       "       [    20,  74000],\n",
       "       [    26,  15000],\n",
       "       [    41,  45000],\n",
       "       [    31,  76000],\n",
       "       [    36,  50000],\n",
       "       [    40,  47000],\n",
       "       [    31,  15000],\n",
       "       [    46,  59000],\n",
       "       [    29,  75000],\n",
       "       [    26,  30000],\n",
       "       [    32, 135000],\n",
       "       [    32, 100000],\n",
       "       [    25,  90000],\n",
       "       [    37,  33000],\n",
       "       [    35,  38000],\n",
       "       [    33,  69000],\n",
       "       [    18,  86000],\n",
       "       [    22,  55000],\n",
       "       [    35,  71000],\n",
       "       [    29, 148000],\n",
       "       [    29,  47000],\n",
       "       [    21,  88000],\n",
       "       [    34, 115000],\n",
       "       [    26, 118000],\n",
       "       [    34,  43000],\n",
       "       [    34,  72000],\n",
       "       [    23,  28000],\n",
       "       [    35,  47000],\n",
       "       [    25,  22000],\n",
       "       [    24,  23000],\n",
       "       [    31,  34000],\n",
       "       [    26,  16000],\n",
       "       [    31,  71000],\n",
       "       [    32, 117000],\n",
       "       [    33,  43000],\n",
       "       [    33,  60000],\n",
       "       [    31,  66000],\n",
       "       [    20,  82000],\n",
       "       [    33,  41000],\n",
       "       [    35,  72000],\n",
       "       [    28,  32000],\n",
       "       [    24,  84000],\n",
       "       [    19,  26000],\n",
       "       [    29,  43000],\n",
       "       [    19,  70000],\n",
       "       [    28,  89000],\n",
       "       [    34,  43000],\n",
       "       [    30,  79000],\n",
       "       [    20,  36000],\n",
       "       [    26,  80000],\n",
       "       [    35,  22000],\n",
       "       [    35,  39000],\n",
       "       [    49,  74000],\n",
       "       [    39, 134000],\n",
       "       [    41,  71000],\n",
       "       [    58, 101000],\n",
       "       [    47,  47000],\n",
       "       [    55, 130000],\n",
       "       [    52, 114000],\n",
       "       [    40, 142000],\n",
       "       [    46,  22000],\n",
       "       [    48,  96000],\n",
       "       [    52, 150000],\n",
       "       [    59,  42000],\n",
       "       [    35,  58000],\n",
       "       [    47,  43000],\n",
       "       [    60, 108000],\n",
       "       [    49,  65000],\n",
       "       [    40,  78000],\n",
       "       [    46,  96000],\n",
       "       [    59, 143000],\n",
       "       [    41,  80000],\n",
       "       [    35,  91000],\n",
       "       [    37, 144000],\n",
       "       [    60, 102000],\n",
       "       [    35,  60000],\n",
       "       [    37,  53000],\n",
       "       [    36, 126000],\n",
       "       [    56, 133000],\n",
       "       [    40,  72000],\n",
       "       [    42,  80000],\n",
       "       [    35, 147000],\n",
       "       [    39,  42000],\n",
       "       [    40, 107000],\n",
       "       [    49,  86000],\n",
       "       [    38, 112000],\n",
       "       [    46,  79000],\n",
       "       [    40,  57000],\n",
       "       [    37,  80000],\n",
       "       [    46,  82000],\n",
       "       [    53, 143000],\n",
       "       [    42, 149000],\n",
       "       [    38,  59000],\n",
       "       [    50,  88000],\n",
       "       [    56, 104000],\n",
       "       [    41,  72000],\n",
       "       [    51, 146000],\n",
       "       [    35,  50000],\n",
       "       [    57, 122000],\n",
       "       [    41,  52000],\n",
       "       [    35,  97000],\n",
       "       [    44,  39000],\n",
       "       [    37,  52000],\n",
       "       [    48, 134000],\n",
       "       [    37, 146000],\n",
       "       [    50,  44000],\n",
       "       [    52,  90000],\n",
       "       [    41,  72000],\n",
       "       [    40,  57000],\n",
       "       [    58,  95000],\n",
       "       [    45, 131000],\n",
       "       [    35,  77000],\n",
       "       [    36, 144000],\n",
       "       [    55, 125000],\n",
       "       [    35,  72000],\n",
       "       [    48,  90000],\n",
       "       [    42, 108000],\n",
       "       [    40,  75000],\n",
       "       [    37,  74000],\n",
       "       [    47, 144000],\n",
       "       [    40,  61000],\n",
       "       [    43, 133000],\n",
       "       [    59,  76000],\n",
       "       [    60,  42000],\n",
       "       [    39, 106000],\n",
       "       [    57,  26000],\n",
       "       [    57,  74000],\n",
       "       [    38,  71000],\n",
       "       [    49,  88000],\n",
       "       [    52,  38000],\n",
       "       [    50,  36000],\n",
       "       [    59,  88000],\n",
       "       [    35,  61000],\n",
       "       [    37,  70000],\n",
       "       [    52,  21000],\n",
       "       [    48, 141000],\n",
       "       [    37,  93000],\n",
       "       [    37,  62000],\n",
       "       [    48, 138000],\n",
       "       [    41,  79000],\n",
       "       [    37,  78000],\n",
       "       [    39, 134000],\n",
       "       [    49,  89000],\n",
       "       [    55,  39000],\n",
       "       [    37,  77000],\n",
       "       [    35,  57000],\n",
       "       [    36,  63000],\n",
       "       [    42,  73000],\n",
       "       [    43, 112000],\n",
       "       [    45,  79000],\n",
       "       [    46, 117000],\n",
       "       [    58,  38000],\n",
       "       [    48,  74000],\n",
       "       [    37, 137000],\n",
       "       [    37,  79000],\n",
       "       [    40,  60000],\n",
       "       [    42,  54000],\n",
       "       [    51, 134000],\n",
       "       [    47, 113000],\n",
       "       [    36, 125000],\n",
       "       [    38,  50000],\n",
       "       [    42,  70000],\n",
       "       [    39,  96000],\n",
       "       [    38,  50000],\n",
       "       [    49, 141000],\n",
       "       [    39,  79000],\n",
       "       [    39,  75000],\n",
       "       [    54, 104000],\n",
       "       [    35,  55000],\n",
       "       [    45,  32000],\n",
       "       [    36,  60000],\n",
       "       [    52, 138000],\n",
       "       [    53,  82000],\n",
       "       [    41,  52000],\n",
       "       [    48,  30000],\n",
       "       [    48, 131000],\n",
       "       [    41,  60000],\n",
       "       [    41,  72000],\n",
       "       [    42,  75000],\n",
       "       [    36, 118000],\n",
       "       [    47, 107000],\n",
       "       [    38,  51000],\n",
       "       [    48, 119000],\n",
       "       [    42,  65000],\n",
       "       [    40,  65000],\n",
       "       [    57,  60000],\n",
       "       [    36,  54000],\n",
       "       [    58, 144000],\n",
       "       [    35,  79000],\n",
       "       [    38,  55000],\n",
       "       [    39, 122000],\n",
       "       [    53, 104000],\n",
       "       [    35,  75000],\n",
       "       [    38,  65000],\n",
       "       [    47,  51000],\n",
       "       [    47, 105000],\n",
       "       [    41,  63000],\n",
       "       [    53,  72000],\n",
       "       [    54, 108000],\n",
       "       [    39,  77000],\n",
       "       [    38,  61000],\n",
       "       [    38, 113000],\n",
       "       [    37,  75000],\n",
       "       [    42,  90000],\n",
       "       [    37,  57000],\n",
       "       [    36,  99000],\n",
       "       [    60,  34000],\n",
       "       [    54,  70000],\n",
       "       [    41,  72000],\n",
       "       [    40,  71000],\n",
       "       [    42,  54000],\n",
       "       [    43, 129000],\n",
       "       [    53,  34000],\n",
       "       [    47,  50000],\n",
       "       [    42,  79000],\n",
       "       [    42, 104000],\n",
       "       [    59,  29000],\n",
       "       [    58,  47000],\n",
       "       [    46,  88000],\n",
       "       [    38,  71000],\n",
       "       [    54,  26000],\n",
       "       [    60,  46000],\n",
       "       [    60,  83000],\n",
       "       [    39,  73000],\n",
       "       [    59, 130000],\n",
       "       [    37,  80000],\n",
       "       [    46,  32000],\n",
       "       [    46,  74000],\n",
       "       [    42,  53000],\n",
       "       [    41,  87000],\n",
       "       [    58,  23000],\n",
       "       [    42,  64000],\n",
       "       [    48,  33000],\n",
       "       [    44, 139000],\n",
       "       [    49,  28000],\n",
       "       [    57,  33000],\n",
       "       [    56,  60000],\n",
       "       [    49,  39000],\n",
       "       [    39,  71000],\n",
       "       [    47,  34000],\n",
       "       [    48,  35000],\n",
       "       [    48,  33000],\n",
       "       [    47,  23000],\n",
       "       [    45,  45000],\n",
       "       [    60,  42000],\n",
       "       [    39,  59000],\n",
       "       [    46,  41000],\n",
       "       [    51,  23000],\n",
       "       [    50,  20000],\n",
       "       [    36,  33000],\n",
       "       [    49,  36000]], dtype=int64)"
      ]
     },
     "execution_count": 9,
     "metadata": {},
     "output_type": "execute_result"
    }
   ],
   "source": [
    "x"
   ]
  },
  {
   "cell_type": "code",
   "execution_count": 10,
   "id": "04c6f387",
   "metadata": {},
   "outputs": [],
   "source": [
    "from sklearn.preprocessing import StandardScaler\n",
    "scaler = StandardScaler()\n",
    "\n",
    "X_scaled = scaler.fit_transform(x)"
   ]
  },
  {
   "cell_type": "code",
   "execution_count": 11,
   "id": "63e3d758",
   "metadata": {},
   "outputs": [
    {
     "data": {
      "text/plain": [
       "(400, 2)"
      ]
     },
     "execution_count": 11,
     "metadata": {},
     "output_type": "execute_result"
    }
   ],
   "source": [
    "X_scaled.shape"
   ]
  },
  {
   "cell_type": "code",
   "execution_count": 12,
   "id": "3cbf1042",
   "metadata": {},
   "outputs": [],
   "source": [
    "from sklearn.model_selection import train_test_split\n",
    "x_train,x_test,y_train,y_test = train_test_split(X_scaled,y,test_size=0.2,random_state=2)"
   ]
  },
  {
   "cell_type": "code",
   "execution_count": 13,
   "id": "8426034d",
   "metadata": {},
   "outputs": [],
   "source": [
    "import tensorflow as tf\n",
    "from tensorflow import keras\n",
    "from keras import Sequential\n",
    "from keras.layers import Dense"
   ]
  },
  {
   "cell_type": "code",
   "execution_count": 14,
   "id": "2d582d4b",
   "metadata": {},
   "outputs": [],
   "source": [
    "model=Sequential()\n",
    "model.add(Dense(10,activation='relu',input_dim=2))#input layer\n",
    "model.add(Dense(10,activation='relu'))#hidden layer\n",
    "model.add(Dense(1,activation='sigmoid'))#output layer"
   ]
  },
  {
   "cell_type": "code",
   "execution_count": 15,
   "id": "65b56867",
   "metadata": {},
   "outputs": [
    {
     "name": "stdout",
     "output_type": "stream",
     "text": [
      "Model: \"sequential\"\n",
      "_________________________________________________________________\n",
      " Layer (type)                Output Shape              Param #   \n",
      "=================================================================\n",
      " dense (Dense)               (None, 10)                30        \n",
      "                                                                 \n",
      " dense_1 (Dense)             (None, 10)                110       \n",
      "                                                                 \n",
      " dense_2 (Dense)             (None, 1)                 11        \n",
      "                                                                 \n",
      "=================================================================\n",
      "Total params: 151\n",
      "Trainable params: 151\n",
      "Non-trainable params: 0\n",
      "_________________________________________________________________\n"
     ]
    }
   ],
   "source": [
    "model.summary()"
   ]
  },
  {
   "cell_type": "markdown",
   "id": "daa50c9f",
   "metadata": {},
   "source": [
    "# Batch gradient descent"
   ]
  },
  {
   "cell_type": "code",
   "execution_count": 17,
   "id": "df41a6b1",
   "metadata": {},
   "outputs": [
    {
     "name": "stdout",
     "output_type": "stream",
     "text": [
      "Epoch 1/100\n",
      "1/1 [==============================] - 1s 1s/step - loss: 0.6701 - accuracy: 0.7281 - val_loss: 0.6929 - val_accuracy: 0.4875\n",
      "Epoch 2/100\n",
      "1/1 [==============================] - 0s 50ms/step - loss: 0.6631 - accuracy: 0.7594 - val_loss: 0.6919 - val_accuracy: 0.4625\n",
      "Epoch 3/100\n",
      "1/1 [==============================] - 0s 57ms/step - loss: 0.6578 - accuracy: 0.7656 - val_loss: 0.6911 - val_accuracy: 0.5000\n",
      "Epoch 4/100\n",
      "1/1 [==============================] - 0s 60ms/step - loss: 0.6529 - accuracy: 0.7906 - val_loss: 0.6903 - val_accuracy: 0.4875\n",
      "Epoch 5/100\n",
      "1/1 [==============================] - 0s 52ms/step - loss: 0.6481 - accuracy: 0.8031 - val_loss: 0.6896 - val_accuracy: 0.5125\n",
      "Epoch 6/100\n",
      "1/1 [==============================] - 0s 53ms/step - loss: 0.6438 - accuracy: 0.8125 - val_loss: 0.6889 - val_accuracy: 0.5250\n",
      "Epoch 7/100\n",
      "1/1 [==============================] - 0s 53ms/step - loss: 0.6396 - accuracy: 0.8188 - val_loss: 0.6882 - val_accuracy: 0.5250\n",
      "Epoch 8/100\n",
      "1/1 [==============================] - 0s 52ms/step - loss: 0.6355 - accuracy: 0.8188 - val_loss: 0.6875 - val_accuracy: 0.5250\n",
      "Epoch 9/100\n",
      "1/1 [==============================] - 0s 55ms/step - loss: 0.6317 - accuracy: 0.8219 - val_loss: 0.6868 - val_accuracy: 0.5250\n",
      "Epoch 10/100\n",
      "1/1 [==============================] - 0s 63ms/step - loss: 0.6280 - accuracy: 0.8281 - val_loss: 0.6861 - val_accuracy: 0.5250\n",
      "Epoch 11/100\n",
      "1/1 [==============================] - 0s 61ms/step - loss: 0.6243 - accuracy: 0.8344 - val_loss: 0.6854 - val_accuracy: 0.5500\n",
      "Epoch 12/100\n",
      "1/1 [==============================] - 0s 49ms/step - loss: 0.6208 - accuracy: 0.8375 - val_loss: 0.6847 - val_accuracy: 0.5500\n",
      "Epoch 13/100\n",
      "1/1 [==============================] - 0s 53ms/step - loss: 0.6174 - accuracy: 0.8344 - val_loss: 0.6841 - val_accuracy: 0.5500\n",
      "Epoch 14/100\n",
      "1/1 [==============================] - 0s 52ms/step - loss: 0.6141 - accuracy: 0.8344 - val_loss: 0.6834 - val_accuracy: 0.5500\n",
      "Epoch 15/100\n",
      "1/1 [==============================] - 0s 52ms/step - loss: 0.6108 - accuracy: 0.8375 - val_loss: 0.6827 - val_accuracy: 0.5625\n",
      "Epoch 16/100\n",
      "1/1 [==============================] - 0s 49ms/step - loss: 0.6076 - accuracy: 0.8344 - val_loss: 0.6820 - val_accuracy: 0.5625\n",
      "Epoch 17/100\n",
      "1/1 [==============================] - 0s 48ms/step - loss: 0.6045 - accuracy: 0.8344 - val_loss: 0.6813 - val_accuracy: 0.5625\n",
      "Epoch 18/100\n",
      "1/1 [==============================] - 0s 48ms/step - loss: 0.6014 - accuracy: 0.8344 - val_loss: 0.6805 - val_accuracy: 0.5750\n",
      "Epoch 19/100\n",
      "1/1 [==============================] - 0s 51ms/step - loss: 0.5983 - accuracy: 0.8344 - val_loss: 0.6798 - val_accuracy: 0.5750\n",
      "Epoch 20/100\n",
      "1/1 [==============================] - 0s 50ms/step - loss: 0.5952 - accuracy: 0.8313 - val_loss: 0.6791 - val_accuracy: 0.5750\n",
      "Epoch 21/100\n",
      "1/1 [==============================] - 0s 51ms/step - loss: 0.5922 - accuracy: 0.8313 - val_loss: 0.6784 - val_accuracy: 0.5750\n",
      "Epoch 22/100\n",
      "1/1 [==============================] - 0s 50ms/step - loss: 0.5892 - accuracy: 0.8313 - val_loss: 0.6776 - val_accuracy: 0.5750\n",
      "Epoch 23/100\n",
      "1/1 [==============================] - 0s 69ms/step - loss: 0.5862 - accuracy: 0.8313 - val_loss: 0.6769 - val_accuracy: 0.5625\n",
      "Epoch 24/100\n",
      "1/1 [==============================] - 0s 48ms/step - loss: 0.5833 - accuracy: 0.8313 - val_loss: 0.6762 - val_accuracy: 0.5625\n",
      "Epoch 25/100\n",
      "1/1 [==============================] - 0s 50ms/step - loss: 0.5804 - accuracy: 0.8281 - val_loss: 0.6754 - val_accuracy: 0.5625\n",
      "Epoch 26/100\n",
      "1/1 [==============================] - 0s 49ms/step - loss: 0.5776 - accuracy: 0.8281 - val_loss: 0.6746 - val_accuracy: 0.5625\n",
      "Epoch 27/100\n",
      "1/1 [==============================] - 0s 49ms/step - loss: 0.5748 - accuracy: 0.8281 - val_loss: 0.6739 - val_accuracy: 0.5625\n",
      "Epoch 28/100\n",
      "1/1 [==============================] - 0s 51ms/step - loss: 0.5720 - accuracy: 0.8250 - val_loss: 0.6731 - val_accuracy: 0.5750\n",
      "Epoch 29/100\n",
      "1/1 [==============================] - 0s 49ms/step - loss: 0.5692 - accuracy: 0.8281 - val_loss: 0.6723 - val_accuracy: 0.5750\n",
      "Epoch 30/100\n",
      "1/1 [==============================] - 0s 60ms/step - loss: 0.5664 - accuracy: 0.8281 - val_loss: 0.6715 - val_accuracy: 0.5750\n",
      "Epoch 31/100\n",
      "1/1 [==============================] - 0s 51ms/step - loss: 0.5637 - accuracy: 0.8281 - val_loss: 0.6706 - val_accuracy: 0.5875\n",
      "Epoch 32/100\n",
      "1/1 [==============================] - 0s 52ms/step - loss: 0.5609 - accuracy: 0.8281 - val_loss: 0.6698 - val_accuracy: 0.6000\n",
      "Epoch 33/100\n",
      "1/1 [==============================] - 0s 53ms/step - loss: 0.5581 - accuracy: 0.8281 - val_loss: 0.6690 - val_accuracy: 0.6125\n",
      "Epoch 34/100\n",
      "1/1 [==============================] - 0s 50ms/step - loss: 0.5554 - accuracy: 0.8281 - val_loss: 0.6681 - val_accuracy: 0.6125\n",
      "Epoch 35/100\n",
      "1/1 [==============================] - 0s 49ms/step - loss: 0.5527 - accuracy: 0.8281 - val_loss: 0.6672 - val_accuracy: 0.6125\n",
      "Epoch 36/100\n",
      "1/1 [==============================] - 0s 49ms/step - loss: 0.5500 - accuracy: 0.8281 - val_loss: 0.6664 - val_accuracy: 0.6125\n",
      "Epoch 37/100\n",
      "1/1 [==============================] - 0s 50ms/step - loss: 0.5473 - accuracy: 0.8313 - val_loss: 0.6655 - val_accuracy: 0.6125\n",
      "Epoch 38/100\n",
      "1/1 [==============================] - 0s 49ms/step - loss: 0.5446 - accuracy: 0.8313 - val_loss: 0.6646 - val_accuracy: 0.6125\n",
      "Epoch 39/100\n",
      "1/1 [==============================] - 0s 46ms/step - loss: 0.5420 - accuracy: 0.8313 - val_loss: 0.6636 - val_accuracy: 0.6125\n",
      "Epoch 40/100\n",
      "1/1 [==============================] - 0s 50ms/step - loss: 0.5393 - accuracy: 0.8344 - val_loss: 0.6627 - val_accuracy: 0.6125\n",
      "Epoch 41/100\n",
      "1/1 [==============================] - 0s 50ms/step - loss: 0.5367 - accuracy: 0.8344 - val_loss: 0.6618 - val_accuracy: 0.6125\n",
      "Epoch 42/100\n",
      "1/1 [==============================] - 0s 53ms/step - loss: 0.5341 - accuracy: 0.8406 - val_loss: 0.6608 - val_accuracy: 0.6125\n",
      "Epoch 43/100\n",
      "1/1 [==============================] - 0s 54ms/step - loss: 0.5314 - accuracy: 0.8406 - val_loss: 0.6598 - val_accuracy: 0.6375\n",
      "Epoch 44/100\n",
      "1/1 [==============================] - 0s 59ms/step - loss: 0.5289 - accuracy: 0.8531 - val_loss: 0.6589 - val_accuracy: 0.6375\n",
      "Epoch 45/100\n",
      "1/1 [==============================] - 0s 56ms/step - loss: 0.5263 - accuracy: 0.8562 - val_loss: 0.6579 - val_accuracy: 0.6375\n",
      "Epoch 46/100\n",
      "1/1 [==============================] - 0s 54ms/step - loss: 0.5238 - accuracy: 0.8562 - val_loss: 0.6569 - val_accuracy: 0.6375\n",
      "Epoch 47/100\n",
      "1/1 [==============================] - 0s 54ms/step - loss: 0.5212 - accuracy: 0.8500 - val_loss: 0.6558 - val_accuracy: 0.6375\n",
      "Epoch 48/100\n",
      "1/1 [==============================] - 0s 73ms/step - loss: 0.5187 - accuracy: 0.8500 - val_loss: 0.6548 - val_accuracy: 0.6375\n",
      "Epoch 49/100\n",
      "1/1 [==============================] - 0s 53ms/step - loss: 0.5162 - accuracy: 0.8500 - val_loss: 0.6538 - val_accuracy: 0.6375\n",
      "Epoch 50/100\n",
      "1/1 [==============================] - 0s 52ms/step - loss: 0.5138 - accuracy: 0.8500 - val_loss: 0.6528 - val_accuracy: 0.6375\n",
      "Epoch 51/100\n",
      "1/1 [==============================] - 0s 55ms/step - loss: 0.5113 - accuracy: 0.8500 - val_loss: 0.6518 - val_accuracy: 0.6375\n",
      "Epoch 52/100\n",
      "1/1 [==============================] - 0s 50ms/step - loss: 0.5088 - accuracy: 0.8469 - val_loss: 0.6508 - val_accuracy: 0.6375\n",
      "Epoch 53/100\n",
      "1/1 [==============================] - 0s 53ms/step - loss: 0.5063 - accuracy: 0.8469 - val_loss: 0.6498 - val_accuracy: 0.6375\n",
      "Epoch 54/100\n",
      "1/1 [==============================] - 0s 52ms/step - loss: 0.5039 - accuracy: 0.8469 - val_loss: 0.6488 - val_accuracy: 0.6500\n",
      "Epoch 55/100\n",
      "1/1 [==============================] - 0s 54ms/step - loss: 0.5014 - accuracy: 0.8469 - val_loss: 0.6478 - val_accuracy: 0.6500\n",
      "Epoch 56/100\n",
      "1/1 [==============================] - 0s 50ms/step - loss: 0.4990 - accuracy: 0.8500 - val_loss: 0.6467 - val_accuracy: 0.6500\n",
      "Epoch 57/100\n",
      "1/1 [==============================] - 0s 55ms/step - loss: 0.4966 - accuracy: 0.8531 - val_loss: 0.6457 - val_accuracy: 0.6500\n",
      "Epoch 58/100\n",
      "1/1 [==============================] - 0s 63ms/step - loss: 0.4943 - accuracy: 0.8531 - val_loss: 0.6446 - val_accuracy: 0.6625\n",
      "Epoch 59/100\n"
     ]
    },
    {
     "name": "stdout",
     "output_type": "stream",
     "text": [
      "1/1 [==============================] - 0s 106ms/step - loss: 0.4919 - accuracy: 0.8531 - val_loss: 0.6435 - val_accuracy: 0.6625\n",
      "Epoch 60/100\n",
      "1/1 [==============================] - 0s 246ms/step - loss: 0.4896 - accuracy: 0.8531 - val_loss: 0.6425 - val_accuracy: 0.6625\n",
      "Epoch 61/100\n",
      "1/1 [==============================] - 0s 127ms/step - loss: 0.4872 - accuracy: 0.8531 - val_loss: 0.6414 - val_accuracy: 0.6625\n",
      "Epoch 62/100\n",
      "1/1 [==============================] - 0s 163ms/step - loss: 0.4849 - accuracy: 0.8531 - val_loss: 0.6403 - val_accuracy: 0.6625\n",
      "Epoch 63/100\n",
      "1/1 [==============================] - 0s 123ms/step - loss: 0.4826 - accuracy: 0.8531 - val_loss: 0.6392 - val_accuracy: 0.6625\n",
      "Epoch 64/100\n",
      "1/1 [==============================] - 0s 99ms/step - loss: 0.4803 - accuracy: 0.8500 - val_loss: 0.6380 - val_accuracy: 0.6750\n",
      "Epoch 65/100\n",
      "1/1 [==============================] - 0s 64ms/step - loss: 0.4780 - accuracy: 0.8531 - val_loss: 0.6368 - val_accuracy: 0.6750\n",
      "Epoch 66/100\n",
      "1/1 [==============================] - 0s 53ms/step - loss: 0.4758 - accuracy: 0.8531 - val_loss: 0.6356 - val_accuracy: 0.6750\n",
      "Epoch 67/100\n",
      "1/1 [==============================] - 0s 58ms/step - loss: 0.4735 - accuracy: 0.8531 - val_loss: 0.6344 - val_accuracy: 0.6750\n",
      "Epoch 68/100\n",
      "1/1 [==============================] - 0s 85ms/step - loss: 0.4713 - accuracy: 0.8500 - val_loss: 0.6331 - val_accuracy: 0.6750\n",
      "Epoch 69/100\n",
      "1/1 [==============================] - 0s 86ms/step - loss: 0.4690 - accuracy: 0.8500 - val_loss: 0.6318 - val_accuracy: 0.6750\n",
      "Epoch 70/100\n",
      "1/1 [==============================] - 0s 52ms/step - loss: 0.4668 - accuracy: 0.8500 - val_loss: 0.6304 - val_accuracy: 0.6750\n",
      "Epoch 71/100\n",
      "1/1 [==============================] - 0s 54ms/step - loss: 0.4646 - accuracy: 0.8500 - val_loss: 0.6291 - val_accuracy: 0.6750\n",
      "Epoch 72/100\n",
      "1/1 [==============================] - 0s 52ms/step - loss: 0.4624 - accuracy: 0.8500 - val_loss: 0.6277 - val_accuracy: 0.6750\n",
      "Epoch 73/100\n",
      "1/1 [==============================] - 0s 60ms/step - loss: 0.4602 - accuracy: 0.8500 - val_loss: 0.6264 - val_accuracy: 0.6750\n",
      "Epoch 74/100\n",
      "1/1 [==============================] - 0s 80ms/step - loss: 0.4580 - accuracy: 0.8500 - val_loss: 0.6251 - val_accuracy: 0.6750\n",
      "Epoch 75/100\n",
      "1/1 [==============================] - 0s 62ms/step - loss: 0.4559 - accuracy: 0.8500 - val_loss: 0.6238 - val_accuracy: 0.6750\n",
      "Epoch 76/100\n",
      "1/1 [==============================] - 0s 49ms/step - loss: 0.4538 - accuracy: 0.8531 - val_loss: 0.6225 - val_accuracy: 0.6750\n",
      "Epoch 77/100\n",
      "1/1 [==============================] - 0s 49ms/step - loss: 0.4517 - accuracy: 0.8531 - val_loss: 0.6212 - val_accuracy: 0.6875\n",
      "Epoch 78/100\n",
      "1/1 [==============================] - 0s 49ms/step - loss: 0.4496 - accuracy: 0.8531 - val_loss: 0.6199 - val_accuracy: 0.6875\n",
      "Epoch 79/100\n",
      "1/1 [==============================] - 0s 79ms/step - loss: 0.4475 - accuracy: 0.8531 - val_loss: 0.6186 - val_accuracy: 0.6875\n",
      "Epoch 80/100\n",
      "1/1 [==============================] - 0s 80ms/step - loss: 0.4454 - accuracy: 0.8562 - val_loss: 0.6172 - val_accuracy: 0.6875\n",
      "Epoch 81/100\n",
      "1/1 [==============================] - 0s 53ms/step - loss: 0.4434 - accuracy: 0.8594 - val_loss: 0.6159 - val_accuracy: 0.6875\n",
      "Epoch 82/100\n",
      "1/1 [==============================] - 0s 60ms/step - loss: 0.4414 - accuracy: 0.8594 - val_loss: 0.6145 - val_accuracy: 0.6875\n",
      "Epoch 83/100\n",
      "1/1 [==============================] - 0s 68ms/step - loss: 0.4394 - accuracy: 0.8594 - val_loss: 0.6131 - val_accuracy: 0.7000\n",
      "Epoch 84/100\n",
      "1/1 [==============================] - 0s 63ms/step - loss: 0.4374 - accuracy: 0.8594 - val_loss: 0.6116 - val_accuracy: 0.7000\n",
      "Epoch 85/100\n",
      "1/1 [==============================] - 0s 48ms/step - loss: 0.4354 - accuracy: 0.8562 - val_loss: 0.6102 - val_accuracy: 0.7000\n",
      "Epoch 86/100\n",
      "1/1 [==============================] - 0s 49ms/step - loss: 0.4334 - accuracy: 0.8562 - val_loss: 0.6087 - val_accuracy: 0.7000\n",
      "Epoch 87/100\n",
      "1/1 [==============================] - 0s 56ms/step - loss: 0.4314 - accuracy: 0.8562 - val_loss: 0.6073 - val_accuracy: 0.7000\n",
      "Epoch 88/100\n",
      "1/1 [==============================] - 0s 77ms/step - loss: 0.4295 - accuracy: 0.8562 - val_loss: 0.6058 - val_accuracy: 0.7000\n",
      "Epoch 89/100\n",
      "1/1 [==============================] - 0s 55ms/step - loss: 0.4276 - accuracy: 0.8562 - val_loss: 0.6043 - val_accuracy: 0.7000\n",
      "Epoch 90/100\n",
      "1/1 [==============================] - 0s 64ms/step - loss: 0.4257 - accuracy: 0.8562 - val_loss: 0.6028 - val_accuracy: 0.7000\n",
      "Epoch 91/100\n",
      "1/1 [==============================] - 0s 51ms/step - loss: 0.4238 - accuracy: 0.8594 - val_loss: 0.6013 - val_accuracy: 0.7000\n",
      "Epoch 92/100\n",
      "1/1 [==============================] - 0s 49ms/step - loss: 0.4220 - accuracy: 0.8594 - val_loss: 0.5998 - val_accuracy: 0.7000\n",
      "Epoch 93/100\n",
      "1/1 [==============================] - 0s 47ms/step - loss: 0.4201 - accuracy: 0.8594 - val_loss: 0.5982 - val_accuracy: 0.7000\n",
      "Epoch 94/100\n",
      "1/1 [==============================] - 0s 49ms/step - loss: 0.4183 - accuracy: 0.8594 - val_loss: 0.5967 - val_accuracy: 0.7000\n",
      "Epoch 95/100\n",
      "1/1 [==============================] - 0s 48ms/step - loss: 0.4165 - accuracy: 0.8594 - val_loss: 0.5952 - val_accuracy: 0.7000\n",
      "Epoch 96/100\n",
      "1/1 [==============================] - 0s 47ms/step - loss: 0.4147 - accuracy: 0.8594 - val_loss: 0.5937 - val_accuracy: 0.7000\n",
      "Epoch 97/100\n",
      "1/1 [==============================] - 0s 55ms/step - loss: 0.4129 - accuracy: 0.8594 - val_loss: 0.5923 - val_accuracy: 0.7250\n",
      "Epoch 98/100\n",
      "1/1 [==============================] - 0s 76ms/step - loss: 0.4111 - accuracy: 0.8594 - val_loss: 0.5908 - val_accuracy: 0.7250\n",
      "Epoch 99/100\n",
      "1/1 [==============================] - 0s 54ms/step - loss: 0.4093 - accuracy: 0.8594 - val_loss: 0.5893 - val_accuracy: 0.7250\n",
      "Epoch 100/100\n",
      "1/1 [==============================] - 0s 57ms/step - loss: 0.4076 - accuracy: 0.8594 - val_loss: 0.5877 - val_accuracy: 0.7250\n"
     ]
    }
   ],
   "source": [
    "model.compile(loss='binary_crossentropy',metrics=['accuracy'])\n",
    "#start=time.time()\n",
    "history=model.fit(X_scaled,y,epochs=100,batch_size=400,validation_split=0.2)\n",
    "#print(time.time() - start)"
   ]
  },
  {
   "cell_type": "code",
   "execution_count": 18,
   "id": "d968b5cb",
   "metadata": {},
   "outputs": [
    {
     "data": {
      "text/plain": [
       "[<matplotlib.lines.Line2D at 0x135d7d31160>]"
      ]
     },
     "execution_count": 18,
     "metadata": {},
     "output_type": "execute_result"
    },
    {
     "data": {
      "image/png": "[encoded data removed]",
      "text/plain": [
       "<Figure size 432x288 with 1 Axes>"
      ]
     },
     "metadata": {
      "needs_background": "light"
     },
     "output_type": "display_data"
    }
   ],
   "source": [
    "import matplotlib.pyplot as plt\n",
    "plt.plot(history.history['loss'])"
   ]
  },
  {
   "cell_type": "code",
   "execution_count": 19,
   "id": "80bf3a30",
   "metadata": {},
   "outputs": [
    {
     "name": "stdout",
     "output_type": "stream",
     "text": [
      "3/3 [==============================] - 0s 5ms/step - loss: 0.4405 - accuracy: 0.8000\n"
     ]
    },
    {
     "data": {
      "text/plain": [
       "[0.44048649072647095, 0.800000011920929]"
      ]
     },
     "execution_count": 19,
     "metadata": {},
     "output_type": "execute_result"
    }
   ],
   "source": [
    "model.evaluate(x_test,y_test)"
   ]
  },
  {
   "cell_type": "code",
   "execution_count": 20,
   "id": "d966b74c",
   "metadata": {},
   "outputs": [
    {
     "name": "stdout",
     "output_type": "stream",
     "text": [
      "3/3 [==============================] - 0s 3ms/step\n"
     ]
    },
    {
     "data": {
      "text/plain": [
       "array([[0],\n",
       "       [0],\n",
       "       [0],\n",
       "       [0],\n",
       "       [1],\n",
       "       [0],\n",
       "       [0],\n",
       "       [0],\n",
       "       [0],\n",
       "       [1],\n",
       "       [0],\n",
       "       [0],\n",
       "       [1],\n",
       "       [1],\n",
       "       [0],\n",
       "       [0],\n",
       "       [0],\n",
       "       [1],\n",
       "       [1],\n",
       "       [0],\n",
       "       [0],\n",
       "       [0],\n",
       "       [0],\n",
       "       [0],\n",
       "       [0],\n",
       "       [0],\n",
       "       [0],\n",
       "       [0],\n",
       "       [1],\n",
       "       [0],\n",
       "       [0],\n",
       "       [0],\n",
       "       [0],\n",
       "       [0],\n",
       "       [1],\n",
       "       [0],\n",
       "       [1],\n",
       "       [0],\n",
       "       [0],\n",
       "       [1],\n",
       "       [0],\n",
       "       [0],\n",
       "       [0],\n",
       "       [1],\n",
       "       [0],\n",
       "       [0],\n",
       "       [0],\n",
       "       [0],\n",
       "       [1],\n",
       "       [0],\n",
       "       [0],\n",
       "       [1],\n",
       "       [0],\n",
       "       [0],\n",
       "       [0],\n",
       "       [0],\n",
       "       [0],\n",
       "       [1],\n",
       "       [1],\n",
       "       [0],\n",
       "       [0],\n",
       "       [1],\n",
       "       [1],\n",
       "       [0],\n",
       "       [0],\n",
       "       [1],\n",
       "       [0],\n",
       "       [0],\n",
       "       [0],\n",
       "       [0],\n",
       "       [0],\n",
       "       [1],\n",
       "       [0],\n",
       "       [0],\n",
       "       [1],\n",
       "       [0],\n",
       "       [1],\n",
       "       [0],\n",
       "       [1],\n",
       "       [0]])"
      ]
     },
     "execution_count": 20,
     "metadata": {},
     "output_type": "execute_result"
    }
   ],
   "source": [
    "import numpy as np\n",
    "y_log=model.predict(x_test)\n",
    "y_pred=np.where(y_log>0.5,1,0)\n",
    "y_pred"
   ]
  },
  {
   "cell_type": "code",
   "execution_count": 21,
   "id": "5dd206ec",
   "metadata": {},
   "outputs": [
    {
     "data": {
      "text/plain": [
       "0.8"
      ]
     },
     "execution_count": 21,
     "metadata": {},
     "output_type": "execute_result"
    }
   ],
   "source": [
    "from sklearn.metrics import accuracy_score\n",
    "accuracy_score(y_test,y_pred)"
   ]
  },
  {
   "cell_type": "code",
   "execution_count": 22,
   "id": "a40c6e73",
   "metadata": {},
   "outputs": [
    {
     "data": {
      "text/plain": [
       "<tf.Tensor: shape=(2, 2), dtype=int32, numpy=\n",
       "array([[45,  3],\n",
       "       [13, 19]])>"
      ]
     },
     "execution_count": 22,
     "metadata": {},
     "output_type": "execute_result"
    }
   ],
   "source": [
    "cm=tf.math.confusion_matrix(labels=y_test,predictions=y_pred)\n",
    "cm"
   ]
  },
  {
   "cell_type": "code",
   "execution_count": 23,
   "id": "ceaf8711",
   "metadata": {},
   "outputs": [
    {
     "data": {
      "text/plain": [
       "Text(69.0, 0.5, 'Truth')"
      ]
     },
     "execution_count": 23,
     "metadata": {},
     "output_type": "execute_result"
    },
    {
     "data": {
      "image/png": "[encoded data removed]",
      "text/plain": [
       "<Figure size 720x504 with 2 Axes>"
      ]
     },
     "metadata": {
      "needs_background": "light"
     },
     "output_type": "display_data"
    }
   ],
   "source": [
    "import seaborn as sn\n",
    "plt.figure(figsize=(10,7))\n",
    "sn.heatmap(cm, annot=True,fmt='d')\n",
    "plt.xlabel('predicted')\n",
    "plt.ylabel('Truth')"
   ]
  },
  {
   "cell_type": "markdown",
   "id": "62c823ec",
   "metadata": {},
   "source": [
    "# Stochastic gradient descent"
   ]
  },
  {
   "cell_type": "code",
   "execution_count": 25,
   "id": "f16a8cc2",
   "metadata": {},
   "outputs": [],
   "source": [
    "model = Sequential()\n",
    "\n",
    "model.add(Dense(10,activation='relu',input_dim=2))\n",
    "model.add(Dense(10,activation='relu'))\n",
    "model.add(Dense(1,activation='sigmoid'))"
   ]
  },
  {
   "cell_type": "code",
   "execution_count": 26,
   "id": "88e26c8f",
   "metadata": {},
   "outputs": [
    {
     "name": "stdout",
     "output_type": "stream",
     "text": [
      "Model: \"sequential_1\"\n",
      "_________________________________________________________________\n",
      " Layer (type)                Output Shape              Param #   \n",
      "=================================================================\n",
      " dense_3 (Dense)             (None, 10)                30        \n",
      "                                                                 \n",
      " dense_4 (Dense)             (None, 10)                110       \n",
      "                                                                 \n",
      " dense_5 (Dense)             (None, 1)                 11        \n",
      "                                                                 \n",
      "=================================================================\n",
      "Total params: 151\n",
      "Trainable params: 151\n",
      "Non-trainable params: 0\n",
      "_________________________________________________________________\n"
     ]
    }
   ],
   "source": [
    "model.summary()"
   ]
  },
  {
   "cell_type": "code",
   "execution_count": 27,
   "id": "edba4c57",
   "metadata": {},
   "outputs": [
    {
     "name": "stdout",
     "output_type": "stream",
     "text": [
      "Epoch 1/100\n",
      "320/320 [==============================] - 4s 6ms/step - loss: 0.6077 - accuracy: 0.8125 - val_loss: 0.6485 - val_accuracy: 0.6750\n",
      "Epoch 2/100\n",
      "320/320 [==============================] - 1s 4ms/step - loss: 0.4877 - accuracy: 0.8500 - val_loss: 0.6475 - val_accuracy: 0.6875\n",
      "Epoch 3/100\n",
      "320/320 [==============================] - 1s 3ms/step - loss: 0.4007 - accuracy: 0.8406 - val_loss: 0.6359 - val_accuracy: 0.7000\n",
      "Epoch 4/100\n",
      "320/320 [==============================] - 1s 3ms/step - loss: 0.3541 - accuracy: 0.8500 - val_loss: 0.5162 - val_accuracy: 0.7375\n",
      "Epoch 5/100\n",
      "320/320 [==============================] - 1s 3ms/step - loss: 0.3190 - accuracy: 0.8562 - val_loss: 0.4270 - val_accuracy: 0.7625\n",
      "Epoch 6/100\n",
      "320/320 [==============================] - 1s 3ms/step - loss: 0.3073 - accuracy: 0.8594 - val_loss: 0.3315 - val_accuracy: 0.8375\n",
      "Epoch 7/100\n",
      "320/320 [==============================] - 1s 3ms/step - loss: 0.2943 - accuracy: 0.8625 - val_loss: 0.2908 - val_accuracy: 0.9000\n",
      "Epoch 8/100\n",
      "320/320 [==============================] - 1s 3ms/step - loss: 0.2853 - accuracy: 0.8687 - val_loss: 0.2567 - val_accuracy: 0.9125\n",
      "Epoch 9/100\n",
      "320/320 [==============================] - 1s 3ms/step - loss: 0.2792 - accuracy: 0.8687 - val_loss: 0.2310 - val_accuracy: 0.9500\n",
      "Epoch 10/100\n",
      "320/320 [==============================] - 1s 3ms/step - loss: 0.2799 - accuracy: 0.8813 - val_loss: 0.2197 - val_accuracy: 0.9500\n",
      "Epoch 11/100\n",
      "320/320 [==============================] - 1s 3ms/step - loss: 0.2735 - accuracy: 0.8813 - val_loss: 0.2208 - val_accuracy: 0.9500\n",
      "Epoch 12/100\n",
      "320/320 [==============================] - 1s 3ms/step - loss: 0.2709 - accuracy: 0.8750 - val_loss: 0.2114 - val_accuracy: 0.9625\n",
      "Epoch 13/100\n",
      "320/320 [==============================] - 1s 3ms/step - loss: 0.2760 - accuracy: 0.8813 - val_loss: 0.1902 - val_accuracy: 0.9625\n",
      "Epoch 14/100\n",
      "320/320 [==============================] - 1s 3ms/step - loss: 0.2728 - accuracy: 0.8750 - val_loss: 0.1844 - val_accuracy: 0.9625\n",
      "Epoch 15/100\n",
      "320/320 [==============================] - 1s 3ms/step - loss: 0.2701 - accuracy: 0.8813 - val_loss: 0.1847 - val_accuracy: 0.9625\n",
      "Epoch 16/100\n",
      "320/320 [==============================] - 1s 3ms/step - loss: 0.2699 - accuracy: 0.8813 - val_loss: 0.1771 - val_accuracy: 0.9625\n",
      "Epoch 17/100\n",
      "320/320 [==============================] - 1s 3ms/step - loss: 0.2628 - accuracy: 0.8813 - val_loss: 0.1770 - val_accuracy: 0.9500\n",
      "Epoch 18/100\n",
      "320/320 [==============================] - 1s 3ms/step - loss: 0.2634 - accuracy: 0.8875 - val_loss: 0.1761 - val_accuracy: 0.9500\n",
      "Epoch 19/100\n",
      "320/320 [==============================] - 1s 3ms/step - loss: 0.2628 - accuracy: 0.8906 - val_loss: 0.1724 - val_accuracy: 0.9375\n",
      "Epoch 20/100\n",
      "320/320 [==============================] - 1s 3ms/step - loss: 0.2642 - accuracy: 0.8906 - val_loss: 0.1640 - val_accuracy: 0.9500\n",
      "Epoch 21/100\n",
      "320/320 [==============================] - 1s 3ms/step - loss: 0.2693 - accuracy: 0.8875 - val_loss: 0.1545 - val_accuracy: 0.9625\n",
      "Epoch 22/100\n",
      "320/320 [==============================] - 1s 3ms/step - loss: 0.2702 - accuracy: 0.8906 - val_loss: 0.1586 - val_accuracy: 0.9625\n",
      "Epoch 23/100\n",
      "320/320 [==============================] - 1s 3ms/step - loss: 0.2688 - accuracy: 0.8906 - val_loss: 0.1546 - val_accuracy: 0.9625\n",
      "Epoch 24/100\n",
      "320/320 [==============================] - 1s 3ms/step - loss: 0.2665 - accuracy: 0.8969 - val_loss: 0.1609 - val_accuracy: 0.9500\n",
      "Epoch 25/100\n",
      "320/320 [==============================] - 3s 9ms/step - loss: 0.2695 - accuracy: 0.8969 - val_loss: 0.1579 - val_accuracy: 0.9625\n",
      "Epoch 26/100\n",
      "320/320 [==============================] - 1s 4ms/step - loss: 0.2682 - accuracy: 0.8969 - val_loss: 0.1557 - val_accuracy: 0.9625\n",
      "Epoch 27/100\n",
      "320/320 [==============================] - 1s 3ms/step - loss: 0.2659 - accuracy: 0.8969 - val_loss: 0.1493 - val_accuracy: 0.9625\n",
      "Epoch 28/100\n",
      "320/320 [==============================] - 1s 3ms/step - loss: 0.2695 - accuracy: 0.8969 - val_loss: 0.1545 - val_accuracy: 0.9750\n",
      "Epoch 29/100\n",
      "320/320 [==============================] - 1s 3ms/step - loss: 0.2671 - accuracy: 0.8938 - val_loss: 0.1510 - val_accuracy: 0.9625\n",
      "Epoch 30/100\n",
      "320/320 [==============================] - 1s 3ms/step - loss: 0.2700 - accuracy: 0.9000 - val_loss: 0.1457 - val_accuracy: 0.9625\n",
      "Epoch 31/100\n",
      "320/320 [==============================] - 1s 3ms/step - loss: 0.2677 - accuracy: 0.8969 - val_loss: 0.1484 - val_accuracy: 0.9625\n",
      "Epoch 32/100\n",
      "320/320 [==============================] - 1s 3ms/step - loss: 0.2714 - accuracy: 0.9031 - val_loss: 0.1621 - val_accuracy: 0.9625\n",
      "Epoch 33/100\n",
      "320/320 [==============================] - 1s 3ms/step - loss: 0.2685 - accuracy: 0.9031 - val_loss: 0.1510 - val_accuracy: 0.9500\n",
      "Epoch 34/100\n",
      "320/320 [==============================] - 1s 3ms/step - loss: 0.2669 - accuracy: 0.9062 - val_loss: 0.1528 - val_accuracy: 0.9750\n",
      "Epoch 35/100\n",
      "320/320 [==============================] - 2s 6ms/step - loss: 0.2661 - accuracy: 0.9062 - val_loss: 0.1500 - val_accuracy: 0.9625\n",
      "Epoch 36/100\n",
      "320/320 [==============================] - 2s 5ms/step - loss: 0.2632 - accuracy: 0.9031 - val_loss: 0.1473 - val_accuracy: 0.9625\n",
      "Epoch 37/100\n",
      "320/320 [==============================] - 1s 3ms/step - loss: 0.2744 - accuracy: 0.9031 - val_loss: 0.1463 - val_accuracy: 0.9625\n",
      "Epoch 38/100\n",
      "320/320 [==============================] - 1s 3ms/step - loss: 0.2682 - accuracy: 0.9000 - val_loss: 0.1414 - val_accuracy: 0.9750\n",
      "Epoch 39/100\n",
      "320/320 [==============================] - 1s 3ms/step - loss: 0.2650 - accuracy: 0.9062 - val_loss: 0.1522 - val_accuracy: 0.9750\n",
      "Epoch 40/100\n",
      "320/320 [==============================] - 1s 3ms/step - loss: 0.2608 - accuracy: 0.9031 - val_loss: 0.1455 - val_accuracy: 0.9875\n",
      "Epoch 41/100\n",
      "320/320 [==============================] - 1s 3ms/step - loss: 0.2659 - accuracy: 0.9031 - val_loss: 0.1522 - val_accuracy: 0.9875\n",
      "Epoch 42/100\n",
      "320/320 [==============================] - 1s 3ms/step - loss: 0.2697 - accuracy: 0.9062 - val_loss: 0.1530 - val_accuracy: 0.9750\n",
      "Epoch 43/100\n",
      "320/320 [==============================] - 1s 3ms/step - loss: 0.2604 - accuracy: 0.9031 - val_loss: 0.1503 - val_accuracy: 0.9750\n",
      "Epoch 44/100\n",
      "320/320 [==============================] - 1s 3ms/step - loss: 0.2612 - accuracy: 0.9031 - val_loss: 0.1559 - val_accuracy: 0.9750\n",
      "Epoch 45/100\n",
      "320/320 [==============================] - 1s 3ms/step - loss: 0.2649 - accuracy: 0.9031 - val_loss: 0.1517 - val_accuracy: 0.9750\n",
      "Epoch 46/100\n",
      "320/320 [==============================] - 1s 3ms/step - loss: 0.2717 - accuracy: 0.9094 - val_loss: 0.1522 - val_accuracy: 0.9625\n",
      "Epoch 47/100\n",
      "320/320 [==============================] - 1s 3ms/step - loss: 0.2686 - accuracy: 0.9094 - val_loss: 0.1544 - val_accuracy: 0.9750\n",
      "Epoch 48/100\n",
      "320/320 [==============================] - 1s 3ms/step - loss: 0.2743 - accuracy: 0.9062 - val_loss: 0.1520 - val_accuracy: 0.9750\n",
      "Epoch 49/100\n",
      "320/320 [==============================] - 1s 3ms/step - loss: 0.2697 - accuracy: 0.9094 - val_loss: 0.1496 - val_accuracy: 0.9750\n",
      "Epoch 50/100\n",
      "320/320 [==============================] - 1s 3ms/step - loss: 0.2724 - accuracy: 0.9031 - val_loss: 0.1551 - val_accuracy: 0.9750\n",
      "Epoch 51/100\n",
      "320/320 [==============================] - 1s 3ms/step - loss: 0.2689 - accuracy: 0.9094 - val_loss: 0.1683 - val_accuracy: 0.9500\n",
      "Epoch 52/100\n",
      "320/320 [==============================] - 1s 3ms/step - loss: 0.2683 - accuracy: 0.9094 - val_loss: 0.1593 - val_accuracy: 0.9625\n",
      "Epoch 53/100\n",
      "320/320 [==============================] - 1s 3ms/step - loss: 0.2651 - accuracy: 0.9094 - val_loss: 0.1567 - val_accuracy: 0.9625\n",
      "Epoch 54/100\n",
      "320/320 [==============================] - 2s 7ms/step - loss: 0.2672 - accuracy: 0.9094 - val_loss: 0.1555 - val_accuracy: 0.9625\n",
      "Epoch 55/100\n",
      "320/320 [==============================] - 2s 5ms/step - loss: 0.2631 - accuracy: 0.9062 - val_loss: 0.1461 - val_accuracy: 0.9625\n",
      "Epoch 56/100\n",
      "320/320 [==============================] - 1s 3ms/step - loss: 0.2733 - accuracy: 0.9094 - val_loss: 0.1484 - val_accuracy: 0.9625\n",
      "Epoch 57/100\n",
      "320/320 [==============================] - 1s 3ms/step - loss: 0.2710 - accuracy: 0.9062 - val_loss: 0.1467 - val_accuracy: 0.9625\n"
     ]
    },
    {
     "name": "stdout",
     "output_type": "stream",
     "text": [
      "Epoch 58/100\n",
      "320/320 [==============================] - 1s 3ms/step - loss: 0.2801 - accuracy: 0.9062 - val_loss: 0.1369 - val_accuracy: 0.9750\n",
      "Epoch 59/100\n",
      "320/320 [==============================] - 1s 3ms/step - loss: 0.2949 - accuracy: 0.9000 - val_loss: 0.1469 - val_accuracy: 0.9625\n",
      "Epoch 60/100\n",
      "320/320 [==============================] - 1s 3ms/step - loss: 0.2837 - accuracy: 0.9094 - val_loss: 0.1429 - val_accuracy: 0.9625\n",
      "Epoch 61/100\n",
      "320/320 [==============================] - 1s 3ms/step - loss: 0.2862 - accuracy: 0.9094 - val_loss: 0.1464 - val_accuracy: 0.9625\n",
      "Epoch 62/100\n",
      "320/320 [==============================] - 1s 3ms/step - loss: 0.2903 - accuracy: 0.9062 - val_loss: 0.1555 - val_accuracy: 0.9625\n",
      "Epoch 63/100\n",
      "320/320 [==============================] - 1s 3ms/step - loss: 0.2873 - accuracy: 0.9031 - val_loss: 0.1629 - val_accuracy: 0.9375\n",
      "Epoch 64/100\n",
      "320/320 [==============================] - 2s 7ms/step - loss: 0.2855 - accuracy: 0.9094 - val_loss: 0.1594 - val_accuracy: 0.9500\n",
      "Epoch 65/100\n",
      "320/320 [==============================] - 1s 4ms/step - loss: 0.2814 - accuracy: 0.9094 - val_loss: 0.1548 - val_accuracy: 0.9625\n",
      "Epoch 66/100\n",
      "320/320 [==============================] - 1s 3ms/step - loss: 0.2808 - accuracy: 0.9062 - val_loss: 0.1531 - val_accuracy: 0.9625\n",
      "Epoch 67/100\n",
      "320/320 [==============================] - 1s 3ms/step - loss: 0.2853 - accuracy: 0.9094 - val_loss: 0.1574 - val_accuracy: 0.9625\n",
      "Epoch 68/100\n",
      "320/320 [==============================] - 1s 3ms/step - loss: 0.2761 - accuracy: 0.9000 - val_loss: 0.1517 - val_accuracy: 0.9625\n",
      "Epoch 69/100\n",
      "320/320 [==============================] - 1s 3ms/step - loss: 0.2816 - accuracy: 0.9031 - val_loss: 0.1496 - val_accuracy: 0.9625\n",
      "Epoch 70/100\n",
      "320/320 [==============================] - 1s 3ms/step - loss: 0.2824 - accuracy: 0.9000 - val_loss: 0.1502 - val_accuracy: 0.9625\n",
      "Epoch 71/100\n",
      "320/320 [==============================] - 1s 3ms/step - loss: 0.2845 - accuracy: 0.9062 - val_loss: 0.1560 - val_accuracy: 0.9625\n",
      "Epoch 72/100\n",
      "320/320 [==============================] - 3s 10ms/step - loss: 0.2780 - accuracy: 0.9031 - val_loss: 0.1503 - val_accuracy: 0.9625\n",
      "Epoch 73/100\n",
      "320/320 [==============================] - 1s 3ms/step - loss: 0.2873 - accuracy: 0.9031 - val_loss: 0.1567 - val_accuracy: 0.9500\n",
      "Epoch 74/100\n",
      "320/320 [==============================] - 1s 3ms/step - loss: 0.2826 - accuracy: 0.9031 - val_loss: 0.1545 - val_accuracy: 0.9500\n",
      "Epoch 75/100\n",
      "320/320 [==============================] - 1s 2ms/step - loss: 0.2823 - accuracy: 0.9000 - val_loss: 0.1612 - val_accuracy: 0.9500\n",
      "Epoch 76/100\n",
      "320/320 [==============================] - 1s 2ms/step - loss: 0.2818 - accuracy: 0.9000 - val_loss: 0.1570 - val_accuracy: 0.9500\n",
      "Epoch 77/100\n",
      "320/320 [==============================] - 1s 2ms/step - loss: 0.2906 - accuracy: 0.9062 - val_loss: 0.1567 - val_accuracy: 0.9500\n",
      "Epoch 78/100\n",
      "320/320 [==============================] - 1s 2ms/step - loss: 0.2826 - accuracy: 0.9031 - val_loss: 0.1622 - val_accuracy: 0.9500\n",
      "Epoch 79/100\n",
      "320/320 [==============================] - 1s 2ms/step - loss: 0.2773 - accuracy: 0.8969 - val_loss: 0.1630 - val_accuracy: 0.9500\n",
      "Epoch 80/100\n",
      "320/320 [==============================] - 1s 3ms/step - loss: 0.2829 - accuracy: 0.9000 - val_loss: 0.1622 - val_accuracy: 0.9500\n",
      "Epoch 81/100\n",
      "320/320 [==============================] - 1s 3ms/step - loss: 0.2863 - accuracy: 0.9031 - val_loss: 0.1616 - val_accuracy: 0.9500\n",
      "Epoch 82/100\n",
      "320/320 [==============================] - 1s 2ms/step - loss: 0.2842 - accuracy: 0.9031 - val_loss: 0.1703 - val_accuracy: 0.9500\n",
      "Epoch 83/100\n",
      "320/320 [==============================] - 1s 2ms/step - loss: 0.2830 - accuracy: 0.9031 - val_loss: 0.1715 - val_accuracy: 0.9500\n",
      "Epoch 84/100\n",
      "320/320 [==============================] - 1s 3ms/step - loss: 0.2777 - accuracy: 0.9031 - val_loss: 0.1618 - val_accuracy: 0.9500\n",
      "Epoch 85/100\n",
      "320/320 [==============================] - 1s 3ms/step - loss: 0.2877 - accuracy: 0.9062 - val_loss: 0.1672 - val_accuracy: 0.9500\n",
      "Epoch 86/100\n",
      "320/320 [==============================] - 1s 3ms/step - loss: 0.2806 - accuracy: 0.9031 - val_loss: 0.1674 - val_accuracy: 0.9500\n",
      "Epoch 87/100\n",
      "320/320 [==============================] - 1s 4ms/step - loss: 0.2765 - accuracy: 0.9000 - val_loss: 0.1715 - val_accuracy: 0.9500\n",
      "Epoch 88/100\n",
      "320/320 [==============================] - 2s 7ms/step - loss: 0.2735 - accuracy: 0.9031 - val_loss: 0.1618 - val_accuracy: 0.9500\n",
      "Epoch 89/100\n",
      "320/320 [==============================] - 1s 3ms/step - loss: 0.2815 - accuracy: 0.9031 - val_loss: 0.1602 - val_accuracy: 0.9500\n",
      "Epoch 90/100\n",
      "320/320 [==============================] - 1s 3ms/step - loss: 0.2793 - accuracy: 0.9000 - val_loss: 0.1647 - val_accuracy: 0.9500\n",
      "Epoch 91/100\n",
      "320/320 [==============================] - 1s 3ms/step - loss: 0.2786 - accuracy: 0.9000 - val_loss: 0.1693 - val_accuracy: 0.9500\n",
      "Epoch 92/100\n",
      "320/320 [==============================] - 1s 3ms/step - loss: 0.2834 - accuracy: 0.9031 - val_loss: 0.1652 - val_accuracy: 0.9500\n",
      "Epoch 93/100\n",
      "320/320 [==============================] - 3s 8ms/step - loss: 0.2840 - accuracy: 0.9031 - val_loss: 0.1666 - val_accuracy: 0.9500\n",
      "Epoch 94/100\n",
      "320/320 [==============================] - 1s 3ms/step - loss: 0.2826 - accuracy: 0.9062 - val_loss: 0.1655 - val_accuracy: 0.9500\n",
      "Epoch 95/100\n",
      "320/320 [==============================] - 1s 3ms/step - loss: 0.2823 - accuracy: 0.9000 - val_loss: 0.1751 - val_accuracy: 0.9500\n",
      "Epoch 96/100\n",
      "320/320 [==============================] - 1s 3ms/step - loss: 0.2794 - accuracy: 0.9062 - val_loss: 0.1517 - val_accuracy: 0.9625\n",
      "Epoch 97/100\n",
      "320/320 [==============================] - 1s 3ms/step - loss: 0.2867 - accuracy: 0.9031 - val_loss: 0.1515 - val_accuracy: 0.9625\n",
      "Epoch 98/100\n",
      "320/320 [==============================] - 1s 3ms/step - loss: 0.2953 - accuracy: 0.9031 - val_loss: 0.1645 - val_accuracy: 0.9500\n",
      "Epoch 99/100\n",
      "320/320 [==============================] - 2s 7ms/step - loss: 0.2821 - accuracy: 0.9031 - val_loss: 0.1638 - val_accuracy: 0.9500\n",
      "Epoch 100/100\n",
      "320/320 [==============================] - 2s 5ms/step - loss: 0.2865 - accuracy: 0.9031 - val_loss: 0.1655 - val_accuracy: 0.9500\n"
     ]
    }
   ],
   "source": [
    "model.compile(loss='binary_crossentropy',metrics=['accuracy'])\n",
    "#start = time.time()\n",
    "history = model.fit(X_scaled,y,epochs=100,batch_size=1,validation_split=0.2)\n",
    "#print(time.time() - start)"
   ]
  },
  {
   "cell_type": "code",
   "execution_count": 28,
   "id": "565e21fd",
   "metadata": {},
   "outputs": [
    {
     "data": {
      "text/plain": [
       "[<matplotlib.lines.Line2D at 0x135d94b7640>]"
      ]
     },
     "execution_count": 28,
     "metadata": {},
     "output_type": "execute_result"
    },
    {
     "data": {
      "image/png": "[encoded data removed]",
      "text/plain": [
       "<Figure size 432x288 with 1 Axes>"
      ]
     },
     "metadata": {
      "needs_background": "light"
     },
     "output_type": "display_data"
    }
   ],
   "source": [
    "plt.plot(history.history['loss'])"
   ]
  },
  {
   "cell_type": "code",
   "execution_count": 29,
   "id": "e99335a1",
   "metadata": {},
   "outputs": [
    {
     "name": "stdout",
     "output_type": "stream",
     "text": [
      "3/3 [==============================] - 0s 4ms/step - loss: 0.2191 - accuracy: 0.9250\n"
     ]
    },
    {
     "data": {
      "text/plain": [
       "[0.219082310795784, 0.925000011920929]"
      ]
     },
     "execution_count": 29,
     "metadata": {},
     "output_type": "execute_result"
    }
   ],
   "source": [
    "model.evaluate(x_test,y_test)"
   ]
  },
  {
   "cell_type": "code",
   "execution_count": 30,
   "id": "f3ed221f",
   "metadata": {},
   "outputs": [
    {
     "name": "stdout",
     "output_type": "stream",
     "text": [
      "3/3 [==============================] - 0s 3ms/step\n"
     ]
    },
    {
     "data": {
      "text/plain": [
       "array([[0],\n",
       "       [0],\n",
       "       [0],\n",
       "       [0],\n",
       "       [1],\n",
       "       [1],\n",
       "       [0],\n",
       "       [0],\n",
       "       [0],\n",
       "       [1],\n",
       "       [0],\n",
       "       [0],\n",
       "       [1],\n",
       "       [0],\n",
       "       [0],\n",
       "       [0],\n",
       "       [0],\n",
       "       [1],\n",
       "       [1],\n",
       "       [0],\n",
       "       [0],\n",
       "       [1],\n",
       "       [0],\n",
       "       [0],\n",
       "       [0],\n",
       "       [1],\n",
       "       [1],\n",
       "       [0],\n",
       "       [1],\n",
       "       [1],\n",
       "       [0],\n",
       "       [0],\n",
       "       [1],\n",
       "       [0],\n",
       "       [1],\n",
       "       [0],\n",
       "       [0],\n",
       "       [0],\n",
       "       [0],\n",
       "       [1],\n",
       "       [0],\n",
       "       [0],\n",
       "       [0],\n",
       "       [0],\n",
       "       [0],\n",
       "       [1],\n",
       "       [0],\n",
       "       [1],\n",
       "       [1],\n",
       "       [0],\n",
       "       [0],\n",
       "       [1],\n",
       "       [0],\n",
       "       [0],\n",
       "       [1],\n",
       "       [0],\n",
       "       [0],\n",
       "       [1],\n",
       "       [1],\n",
       "       [0],\n",
       "       [0],\n",
       "       [1],\n",
       "       [1],\n",
       "       [0],\n",
       "       [0],\n",
       "       [1],\n",
       "       [1],\n",
       "       [0],\n",
       "       [0],\n",
       "       [1],\n",
       "       [0],\n",
       "       [1],\n",
       "       [0],\n",
       "       [0],\n",
       "       [1],\n",
       "       [0],\n",
       "       [1],\n",
       "       [0],\n",
       "       [1],\n",
       "       [0]])"
      ]
     },
     "execution_count": 30,
     "metadata": {},
     "output_type": "execute_result"
    }
   ],
   "source": [
    "import numpy as np\n",
    "y_log=model.predict(x_test)\n",
    "y_pred=np.where(y_log>0.5,1,0)\n",
    "y_pred"
   ]
  },
  {
   "cell_type": "code",
   "execution_count": 31,
   "id": "0ac6f5bb",
   "metadata": {},
   "outputs": [
    {
     "data": {
      "text/plain": [
       "0.925"
      ]
     },
     "execution_count": 31,
     "metadata": {},
     "output_type": "execute_result"
    }
   ],
   "source": [
    "from sklearn.metrics import accuracy_score\n",
    "accuracy_score(y_test,y_pred)"
   ]
  },
  {
   "cell_type": "code",
   "execution_count": 32,
   "id": "5187af3f",
   "metadata": {},
   "outputs": [
    {
     "data": {
      "text/plain": [
       "<tf.Tensor: shape=(2, 2), dtype=int32, numpy=\n",
       "array([[46,  2],\n",
       "       [ 4, 28]])>"
      ]
     },
     "execution_count": 32,
     "metadata": {},
     "output_type": "execute_result"
    }
   ],
   "source": [
    "cm=tf.math.confusion_matrix(labels=y_test,predictions=y_pred)\n",
    "cm"
   ]
  },
  {
   "cell_type": "code",
   "execution_count": 33,
   "id": "e7c7f639",
   "metadata": {},
   "outputs": [
    {
     "data": {
      "text/plain": [
       "Text(69.0, 0.5, 'Truth')"
      ]
     },
     "execution_count": 33,
     "metadata": {},
     "output_type": "execute_result"
    },
    {
     "data": {
      "image/png": "[encoded data removed]",
      "text/plain": [
       "<Figure size 720x504 with 2 Axes>"
      ]
     },
     "metadata": {
      "needs_background": "light"
     },
     "output_type": "display_data"
    }
   ],
   "source": [
    "import seaborn as sn\n",
    "plt.figure(figsize=(10,7))\n",
    "sn.heatmap(cm, annot=True,fmt='d')\n",
    "plt.xlabel('predicted')\n",
    "plt.ylabel('Truth')"
   ]
  },
  {
   "cell_type": "markdown",
   "id": "13e122a8",
   "metadata": {},
   "source": [
    "# Mini gradient descent"
   ]
  },
  {
   "cell_type": "code",
   "execution_count": 35,
   "id": "07aa5928",
   "metadata": {},
   "outputs": [],
   "source": [
    "model = Sequential()\n",
    "\n",
    "model.add(Dense(10,activation='relu',input_dim=2))\n",
    "model.add(Dense(10,activation='relu'))\n",
    "model.add(Dense(1,activation='sigmoid'))"
   ]
  },
  {
   "cell_type": "code",
   "execution_count": 36,
   "id": "f84d18dc",
   "metadata": {},
   "outputs": [
    {
     "name": "stdout",
     "output_type": "stream",
     "text": [
      "Model: \"sequential_2\"\n",
      "_________________________________________________________________\n",
      " Layer (type)                Output Shape              Param #   \n",
      "=================================================================\n",
      " dense_6 (Dense)             (None, 10)                30        \n",
      "                                                                 \n",
      " dense_7 (Dense)             (None, 10)                110       \n",
      "                                                                 \n",
      " dense_8 (Dense)             (None, 1)                 11        \n",
      "                                                                 \n",
      "=================================================================\n",
      "Total params: 151\n",
      "Trainable params: 151\n",
      "Non-trainable params: 0\n",
      "_________________________________________________________________\n"
     ]
    }
   ],
   "source": [
    "model.summary()"
   ]
  },
  {
   "cell_type": "code",
   "execution_count": 37,
   "id": "b60fcb3a",
   "metadata": {},
   "outputs": [
    {
     "name": "stdout",
     "output_type": "stream",
     "text": [
      "Epoch 1/100\n",
      "3/3 [==============================] - 1s 147ms/step - loss: 0.7493 - accuracy: 0.5562 - val_loss: 0.7882 - val_accuracy: 0.3875\n",
      "Epoch 2/100\n",
      "3/3 [==============================] - 0s 31ms/step - loss: 0.7314 - accuracy: 0.6906 - val_loss: 0.7880 - val_accuracy: 0.3875\n",
      "Epoch 3/100\n",
      "3/3 [==============================] - 0s 31ms/step - loss: 0.7194 - accuracy: 0.7094 - val_loss: 0.7832 - val_accuracy: 0.3875\n",
      "Epoch 4/100\n",
      "3/3 [==============================] - 0s 32ms/step - loss: 0.7100 - accuracy: 0.7125 - val_loss: 0.7794 - val_accuracy: 0.3875\n",
      "Epoch 5/100\n",
      "3/3 [==============================] - 0s 32ms/step - loss: 0.7008 - accuracy: 0.7125 - val_loss: 0.7746 - val_accuracy: 0.3875\n",
      "Epoch 6/100\n",
      "3/3 [==============================] - 0s 29ms/step - loss: 0.6922 - accuracy: 0.7094 - val_loss: 0.7711 - val_accuracy: 0.4000\n",
      "Epoch 7/100\n",
      "3/3 [==============================] - 0s 31ms/step - loss: 0.6852 - accuracy: 0.7094 - val_loss: 0.7717 - val_accuracy: 0.3875\n",
      "Epoch 8/100\n",
      "3/3 [==============================] - 0s 31ms/step - loss: 0.6777 - accuracy: 0.7094 - val_loss: 0.7712 - val_accuracy: 0.3875\n",
      "Epoch 9/100\n",
      "3/3 [==============================] - 0s 32ms/step - loss: 0.6711 - accuracy: 0.7125 - val_loss: 0.7710 - val_accuracy: 0.3875\n",
      "Epoch 10/100\n",
      "3/3 [==============================] - 0s 30ms/step - loss: 0.6643 - accuracy: 0.7125 - val_loss: 0.7613 - val_accuracy: 0.4125\n",
      "Epoch 11/100\n",
      "3/3 [==============================] - 0s 37ms/step - loss: 0.6588 - accuracy: 0.7156 - val_loss: 0.7623 - val_accuracy: 0.4125\n",
      "Epoch 12/100\n",
      "3/3 [==============================] - 0s 35ms/step - loss: 0.6524 - accuracy: 0.7156 - val_loss: 0.7590 - val_accuracy: 0.4375\n",
      "Epoch 13/100\n",
      "3/3 [==============================] - 0s 30ms/step - loss: 0.6459 - accuracy: 0.7156 - val_loss: 0.7542 - val_accuracy: 0.4500\n",
      "Epoch 14/100\n",
      "3/3 [==============================] - 0s 30ms/step - loss: 0.6401 - accuracy: 0.7188 - val_loss: 0.7488 - val_accuracy: 0.4625\n",
      "Epoch 15/100\n",
      "3/3 [==============================] - 0s 31ms/step - loss: 0.6343 - accuracy: 0.7125 - val_loss: 0.7434 - val_accuracy: 0.4625\n",
      "Epoch 16/100\n",
      "3/3 [==============================] - 0s 31ms/step - loss: 0.6285 - accuracy: 0.7125 - val_loss: 0.7429 - val_accuracy: 0.4625\n",
      "Epoch 17/100\n",
      "3/3 [==============================] - 0s 29ms/step - loss: 0.6226 - accuracy: 0.7125 - val_loss: 0.7455 - val_accuracy: 0.4625\n",
      "Epoch 18/100\n",
      "3/3 [==============================] - 0s 33ms/step - loss: 0.6169 - accuracy: 0.7125 - val_loss: 0.7373 - val_accuracy: 0.4625\n",
      "Epoch 19/100\n",
      "3/3 [==============================] - 0s 32ms/step - loss: 0.6110 - accuracy: 0.7125 - val_loss: 0.7374 - val_accuracy: 0.4625\n",
      "Epoch 20/100\n",
      "3/3 [==============================] - 0s 30ms/step - loss: 0.6051 - accuracy: 0.7125 - val_loss: 0.7341 - val_accuracy: 0.4750\n",
      "Epoch 21/100\n",
      "3/3 [==============================] - 0s 30ms/step - loss: 0.6000 - accuracy: 0.7188 - val_loss: 0.7285 - val_accuracy: 0.4750\n",
      "Epoch 22/100\n",
      "3/3 [==============================] - 0s 33ms/step - loss: 0.5943 - accuracy: 0.7281 - val_loss: 0.7273 - val_accuracy: 0.4750\n",
      "Epoch 23/100\n",
      "3/3 [==============================] - 0s 28ms/step - loss: 0.5890 - accuracy: 0.7344 - val_loss: 0.7237 - val_accuracy: 0.4750\n",
      "Epoch 24/100\n",
      "3/3 [==============================] - 0s 31ms/step - loss: 0.5839 - accuracy: 0.7344 - val_loss: 0.7231 - val_accuracy: 0.4750\n",
      "Epoch 25/100\n",
      "3/3 [==============================] - 0s 33ms/step - loss: 0.5783 - accuracy: 0.7437 - val_loss: 0.7215 - val_accuracy: 0.5000\n",
      "Epoch 26/100\n",
      "3/3 [==============================] - 0s 31ms/step - loss: 0.5725 - accuracy: 0.7500 - val_loss: 0.7145 - val_accuracy: 0.5250\n",
      "Epoch 27/100\n",
      "3/3 [==============================] - 0s 33ms/step - loss: 0.5671 - accuracy: 0.7594 - val_loss: 0.7140 - val_accuracy: 0.5250\n",
      "Epoch 28/100\n",
      "3/3 [==============================] - 0s 32ms/step - loss: 0.5613 - accuracy: 0.7594 - val_loss: 0.7123 - val_accuracy: 0.5250\n",
      "Epoch 29/100\n",
      "3/3 [==============================] - 0s 29ms/step - loss: 0.5557 - accuracy: 0.7594 - val_loss: 0.7044 - val_accuracy: 0.5500\n",
      "Epoch 30/100\n",
      "3/3 [==============================] - 0s 31ms/step - loss: 0.5502 - accuracy: 0.7719 - val_loss: 0.7019 - val_accuracy: 0.5500\n",
      "Epoch 31/100\n",
      "3/3 [==============================] - 0s 30ms/step - loss: 0.5451 - accuracy: 0.7750 - val_loss: 0.7008 - val_accuracy: 0.5625\n",
      "Epoch 32/100\n",
      "3/3 [==============================] - 0s 31ms/step - loss: 0.5394 - accuracy: 0.7844 - val_loss: 0.6926 - val_accuracy: 0.5500\n",
      "Epoch 33/100\n",
      "3/3 [==============================] - 0s 34ms/step - loss: 0.5343 - accuracy: 0.7844 - val_loss: 0.6860 - val_accuracy: 0.5625\n",
      "Epoch 34/100\n",
      "3/3 [==============================] - 0s 34ms/step - loss: 0.5290 - accuracy: 0.7875 - val_loss: 0.6795 - val_accuracy: 0.6000\n",
      "Epoch 35/100\n",
      "3/3 [==============================] - 0s 33ms/step - loss: 0.5234 - accuracy: 0.7906 - val_loss: 0.6735 - val_accuracy: 0.6250\n",
      "Epoch 36/100\n",
      "3/3 [==============================] - 0s 33ms/step - loss: 0.5177 - accuracy: 0.7969 - val_loss: 0.6749 - val_accuracy: 0.6125\n",
      "Epoch 37/100\n",
      "3/3 [==============================] - 0s 28ms/step - loss: 0.5122 - accuracy: 0.7937 - val_loss: 0.6658 - val_accuracy: 0.6375\n",
      "Epoch 38/100\n",
      "3/3 [==============================] - 0s 27ms/step - loss: 0.5073 - accuracy: 0.7969 - val_loss: 0.6644 - val_accuracy: 0.6500\n",
      "Epoch 39/100\n",
      "3/3 [==============================] - 0s 27ms/step - loss: 0.5016 - accuracy: 0.8125 - val_loss: 0.6556 - val_accuracy: 0.6500\n",
      "Epoch 40/100\n",
      "3/3 [==============================] - 0s 27ms/step - loss: 0.4966 - accuracy: 0.8219 - val_loss: 0.6465 - val_accuracy: 0.6625\n",
      "Epoch 41/100\n",
      "3/3 [==============================] - 0s 30ms/step - loss: 0.4917 - accuracy: 0.8250 - val_loss: 0.6450 - val_accuracy: 0.6625\n",
      "Epoch 42/100\n",
      "3/3 [==============================] - 0s 28ms/step - loss: 0.4864 - accuracy: 0.8281 - val_loss: 0.6341 - val_accuracy: 0.6875\n",
      "Epoch 43/100\n",
      "3/3 [==============================] - 0s 26ms/step - loss: 0.4816 - accuracy: 0.8438 - val_loss: 0.6336 - val_accuracy: 0.7000\n",
      "Epoch 44/100\n",
      "3/3 [==============================] - 0s 26ms/step - loss: 0.4768 - accuracy: 0.8438 - val_loss: 0.6293 - val_accuracy: 0.7000\n",
      "Epoch 45/100\n",
      "3/3 [==============================] - 0s 32ms/step - loss: 0.4716 - accuracy: 0.8406 - val_loss: 0.6225 - val_accuracy: 0.7125\n",
      "Epoch 46/100\n",
      "3/3 [==============================] - 0s 83ms/step - loss: 0.4675 - accuracy: 0.8438 - val_loss: 0.6140 - val_accuracy: 0.7125\n",
      "Epoch 47/100\n",
      "3/3 [==============================] - 0s 87ms/step - loss: 0.4629 - accuracy: 0.8438 - val_loss: 0.6122 - val_accuracy: 0.7125\n",
      "Epoch 48/100\n",
      "3/3 [==============================] - 0s 75ms/step - loss: 0.4583 - accuracy: 0.8438 - val_loss: 0.6113 - val_accuracy: 0.7125\n",
      "Epoch 49/100\n",
      "3/3 [==============================] - 0s 71ms/step - loss: 0.4532 - accuracy: 0.8438 - val_loss: 0.6122 - val_accuracy: 0.7125\n",
      "Epoch 50/100\n",
      "3/3 [==============================] - 0s 76ms/step - loss: 0.4485 - accuracy: 0.8469 - val_loss: 0.6091 - val_accuracy: 0.7125\n",
      "Epoch 51/100\n",
      "3/3 [==============================] - 0s 86ms/step - loss: 0.4439 - accuracy: 0.8500 - val_loss: 0.6055 - val_accuracy: 0.7125\n",
      "Epoch 52/100\n",
      "3/3 [==============================] - 0s 76ms/step - loss: 0.4394 - accuracy: 0.8500 - val_loss: 0.6063 - val_accuracy: 0.7125\n",
      "Epoch 53/100\n",
      "3/3 [==============================] - 0s 86ms/step - loss: 0.4350 - accuracy: 0.8500 - val_loss: 0.5947 - val_accuracy: 0.7125\n",
      "Epoch 54/100\n",
      "3/3 [==============================] - 0s 80ms/step - loss: 0.4297 - accuracy: 0.8500 - val_loss: 0.5887 - val_accuracy: 0.7125\n",
      "Epoch 55/100\n",
      "3/3 [==============================] - 0s 84ms/step - loss: 0.4243 - accuracy: 0.8562 - val_loss: 0.5870 - val_accuracy: 0.7125\n",
      "Epoch 56/100\n",
      "3/3 [==============================] - 0s 76ms/step - loss: 0.4190 - accuracy: 0.8562 - val_loss: 0.5894 - val_accuracy: 0.7125\n",
      "Epoch 57/100\n",
      "3/3 [==============================] - 0s 82ms/step - loss: 0.4149 - accuracy: 0.8531 - val_loss: 0.5761 - val_accuracy: 0.7375\n",
      "Epoch 58/100\n",
      "3/3 [==============================] - 0s 70ms/step - loss: 0.4100 - accuracy: 0.8531 - val_loss: 0.5677 - val_accuracy: 0.7375\n",
      "Epoch 59/100\n"
     ]
    },
    {
     "name": "stdout",
     "output_type": "stream",
     "text": [
      "3/3 [==============================] - 0s 69ms/step - loss: 0.4051 - accuracy: 0.8594 - val_loss: 0.5651 - val_accuracy: 0.7375\n",
      "Epoch 60/100\n",
      "3/3 [==============================] - 0s 45ms/step - loss: 0.4004 - accuracy: 0.8656 - val_loss: 0.5654 - val_accuracy: 0.7375\n",
      "Epoch 61/100\n",
      "3/3 [==============================] - 0s 41ms/step - loss: 0.3963 - accuracy: 0.8625 - val_loss: 0.5564 - val_accuracy: 0.7375\n",
      "Epoch 62/100\n",
      "3/3 [==============================] - 0s 41ms/step - loss: 0.3921 - accuracy: 0.8594 - val_loss: 0.5584 - val_accuracy: 0.7375\n",
      "Epoch 63/100\n",
      "3/3 [==============================] - 0s 41ms/step - loss: 0.3884 - accuracy: 0.8594 - val_loss: 0.5496 - val_accuracy: 0.7375\n",
      "Epoch 64/100\n",
      "3/3 [==============================] - 0s 43ms/step - loss: 0.3845 - accuracy: 0.8594 - val_loss: 0.5422 - val_accuracy: 0.7500\n",
      "Epoch 65/100\n",
      "3/3 [==============================] - 0s 44ms/step - loss: 0.3809 - accuracy: 0.8594 - val_loss: 0.5320 - val_accuracy: 0.7500\n",
      "Epoch 66/100\n",
      "3/3 [==============================] - 0s 39ms/step - loss: 0.3769 - accuracy: 0.8594 - val_loss: 0.5244 - val_accuracy: 0.7500\n",
      "Epoch 67/100\n",
      "3/3 [==============================] - 0s 25ms/step - loss: 0.3728 - accuracy: 0.8594 - val_loss: 0.5270 - val_accuracy: 0.7500\n",
      "Epoch 68/100\n",
      "3/3 [==============================] - 0s 28ms/step - loss: 0.3697 - accuracy: 0.8594 - val_loss: 0.5260 - val_accuracy: 0.7500\n",
      "Epoch 69/100\n",
      "3/3 [==============================] - 0s 27ms/step - loss: 0.3664 - accuracy: 0.8594 - val_loss: 0.5259 - val_accuracy: 0.7500\n",
      "Epoch 70/100\n",
      "3/3 [==============================] - 0s 27ms/step - loss: 0.3630 - accuracy: 0.8594 - val_loss: 0.5203 - val_accuracy: 0.7500\n",
      "Epoch 71/100\n",
      "3/3 [==============================] - 0s 29ms/step - loss: 0.3601 - accuracy: 0.8594 - val_loss: 0.5142 - val_accuracy: 0.7500\n",
      "Epoch 72/100\n",
      "3/3 [==============================] - 0s 32ms/step - loss: 0.3566 - accuracy: 0.8594 - val_loss: 0.5122 - val_accuracy: 0.7500\n",
      "Epoch 73/100\n",
      "3/3 [==============================] - 0s 27ms/step - loss: 0.3538 - accuracy: 0.8594 - val_loss: 0.5054 - val_accuracy: 0.7500\n",
      "Epoch 74/100\n",
      "3/3 [==============================] - 0s 26ms/step - loss: 0.3500 - accuracy: 0.8594 - val_loss: 0.5037 - val_accuracy: 0.7500\n",
      "Epoch 75/100\n",
      "3/3 [==============================] - 0s 27ms/step - loss: 0.3467 - accuracy: 0.8594 - val_loss: 0.4963 - val_accuracy: 0.7500\n",
      "Epoch 76/100\n",
      "3/3 [==============================] - 0s 26ms/step - loss: 0.3441 - accuracy: 0.8625 - val_loss: 0.4932 - val_accuracy: 0.7500\n",
      "Epoch 77/100\n",
      "3/3 [==============================] - 0s 26ms/step - loss: 0.3408 - accuracy: 0.8625 - val_loss: 0.4853 - val_accuracy: 0.7500\n",
      "Epoch 78/100\n",
      "3/3 [==============================] - 0s 25ms/step - loss: 0.3376 - accuracy: 0.8625 - val_loss: 0.4849 - val_accuracy: 0.7500\n",
      "Epoch 79/100\n",
      "3/3 [==============================] - 0s 26ms/step - loss: 0.3346 - accuracy: 0.8625 - val_loss: 0.4781 - val_accuracy: 0.7750\n",
      "Epoch 80/100\n",
      "3/3 [==============================] - 0s 27ms/step - loss: 0.3316 - accuracy: 0.8594 - val_loss: 0.4770 - val_accuracy: 0.7500\n",
      "Epoch 81/100\n",
      "3/3 [==============================] - 0s 25ms/step - loss: 0.3288 - accuracy: 0.8594 - val_loss: 0.4643 - val_accuracy: 0.7750\n",
      "Epoch 82/100\n",
      "3/3 [==============================] - 0s 27ms/step - loss: 0.3260 - accuracy: 0.8625 - val_loss: 0.4600 - val_accuracy: 0.7750\n",
      "Epoch 83/100\n",
      "3/3 [==============================] - 0s 25ms/step - loss: 0.3234 - accuracy: 0.8625 - val_loss: 0.4567 - val_accuracy: 0.7750\n",
      "Epoch 84/100\n",
      "3/3 [==============================] - 0s 27ms/step - loss: 0.3207 - accuracy: 0.8625 - val_loss: 0.4502 - val_accuracy: 0.7625\n",
      "Epoch 85/100\n",
      "3/3 [==============================] - 0s 27ms/step - loss: 0.3181 - accuracy: 0.8625 - val_loss: 0.4497 - val_accuracy: 0.7500\n",
      "Epoch 86/100\n",
      "3/3 [==============================] - 0s 28ms/step - loss: 0.3162 - accuracy: 0.8625 - val_loss: 0.4360 - val_accuracy: 0.7625\n",
      "Epoch 87/100\n",
      "3/3 [==============================] - 0s 27ms/step - loss: 0.3134 - accuracy: 0.8656 - val_loss: 0.4353 - val_accuracy: 0.7750\n",
      "Epoch 88/100\n",
      "3/3 [==============================] - 0s 26ms/step - loss: 0.3112 - accuracy: 0.8656 - val_loss: 0.4356 - val_accuracy: 0.7625\n",
      "Epoch 89/100\n",
      "3/3 [==============================] - 0s 26ms/step - loss: 0.3096 - accuracy: 0.8656 - val_loss: 0.4369 - val_accuracy: 0.7500\n",
      "Epoch 90/100\n",
      "3/3 [==============================] - 0s 39ms/step - loss: 0.3079 - accuracy: 0.8656 - val_loss: 0.4246 - val_accuracy: 0.7750\n",
      "Epoch 91/100\n",
      "3/3 [==============================] - 0s 27ms/step - loss: 0.3053 - accuracy: 0.8656 - val_loss: 0.4198 - val_accuracy: 0.7875\n",
      "Epoch 92/100\n",
      "3/3 [==============================] - 0s 27ms/step - loss: 0.3031 - accuracy: 0.8656 - val_loss: 0.4112 - val_accuracy: 0.8000\n",
      "Epoch 93/100\n",
      "3/3 [==============================] - 0s 27ms/step - loss: 0.3007 - accuracy: 0.8656 - val_loss: 0.4083 - val_accuracy: 0.8125\n",
      "Epoch 94/100\n",
      "3/3 [==============================] - 0s 27ms/step - loss: 0.2991 - accuracy: 0.8656 - val_loss: 0.4001 - val_accuracy: 0.8250\n",
      "Epoch 95/100\n",
      "3/3 [==============================] - 0s 28ms/step - loss: 0.2969 - accuracy: 0.8719 - val_loss: 0.3991 - val_accuracy: 0.8125\n",
      "Epoch 96/100\n",
      "3/3 [==============================] - 0s 28ms/step - loss: 0.2950 - accuracy: 0.8719 - val_loss: 0.3970 - val_accuracy: 0.8125\n",
      "Epoch 97/100\n",
      "3/3 [==============================] - 0s 27ms/step - loss: 0.2930 - accuracy: 0.8687 - val_loss: 0.3919 - val_accuracy: 0.8125\n",
      "Epoch 98/100\n",
      "3/3 [==============================] - 0s 28ms/step - loss: 0.2910 - accuracy: 0.8719 - val_loss: 0.3900 - val_accuracy: 0.8125\n",
      "Epoch 99/100\n",
      "3/3 [==============================] - 0s 28ms/step - loss: 0.2892 - accuracy: 0.8687 - val_loss: 0.3831 - val_accuracy: 0.8375\n",
      "Epoch 100/100\n",
      "3/3 [==============================] - 0s 27ms/step - loss: 0.2874 - accuracy: 0.8750 - val_loss: 0.3789 - val_accuracy: 0.8500\n"
     ]
    }
   ],
   "source": [
    "model.compile(loss='binary_crossentropy',metrics=['accuracy'])\n",
    "#start = time.time()\n",
    "history = model.fit(X_scaled,y,epochs=100,batch_size=150,validation_split=0.2)\n",
    "#print(time.time() - start)"
   ]
  },
  {
   "cell_type": "code",
   "execution_count": 38,
   "id": "2bf61e69",
   "metadata": {},
   "outputs": [
    {
     "data": {
      "text/plain": [
       "[<matplotlib.lines.Line2D at 0x135db848b20>]"
      ]
     },
     "execution_count": 38,
     "metadata": {},
     "output_type": "execute_result"
    },
    {
     "data": {
      "image/png": "[encoded data removed]",
      "text/plain": [
       "<Figure size 432x288 with 1 Axes>"
      ]
     },
     "metadata": {
      "needs_background": "light"
     },
     "output_type": "display_data"
    }
   ],
   "source": [
    "plt.plot(history.history['loss'])"
   ]
  },
  {
   "cell_type": "code",
   "execution_count": 39,
   "id": "17371f16",
   "metadata": {},
   "outputs": [
    {
     "name": "stdout",
     "output_type": "stream",
     "text": [
      "3/3 [==============================] - 0s 4ms/step - loss: 0.3214 - accuracy: 0.8375\n"
     ]
    },
    {
     "data": {
      "text/plain": [
       "[0.32142525911331177, 0.8374999761581421]"
      ]
     },
     "execution_count": 39,
     "metadata": {},
     "output_type": "execute_result"
    }
   ],
   "source": [
    "model.evaluate(x_test,y_test)"
   ]
  },
  {
   "cell_type": "code",
   "execution_count": 40,
   "id": "6d9df193",
   "metadata": {},
   "outputs": [
    {
     "name": "stdout",
     "output_type": "stream",
     "text": [
      "3/3 [==============================] - 0s 3ms/step\n"
     ]
    },
    {
     "data": {
      "text/plain": [
       "array([[0],\n",
       "       [0],\n",
       "       [0],\n",
       "       [0],\n",
       "       [1],\n",
       "       [0],\n",
       "       [0],\n",
       "       [0],\n",
       "       [0],\n",
       "       [1],\n",
       "       [0],\n",
       "       [0],\n",
       "       [1],\n",
       "       [1],\n",
       "       [0],\n",
       "       [0],\n",
       "       [0],\n",
       "       [1],\n",
       "       [1],\n",
       "       [0],\n",
       "       [0],\n",
       "       [0],\n",
       "       [0],\n",
       "       [0],\n",
       "       [0],\n",
       "       [0],\n",
       "       [0],\n",
       "       [0],\n",
       "       [1],\n",
       "       [0],\n",
       "       [0],\n",
       "       [0],\n",
       "       [0],\n",
       "       [0],\n",
       "       [1],\n",
       "       [0],\n",
       "       [1],\n",
       "       [0],\n",
       "       [0],\n",
       "       [1],\n",
       "       [0],\n",
       "       [0],\n",
       "       [0],\n",
       "       [0],\n",
       "       [0],\n",
       "       [1],\n",
       "       [0],\n",
       "       [0],\n",
       "       [1],\n",
       "       [0],\n",
       "       [0],\n",
       "       [1],\n",
       "       [0],\n",
       "       [0],\n",
       "       [0],\n",
       "       [0],\n",
       "       [0],\n",
       "       [1],\n",
       "       [1],\n",
       "       [0],\n",
       "       [0],\n",
       "       [1],\n",
       "       [1],\n",
       "       [0],\n",
       "       [0],\n",
       "       [1],\n",
       "       [0],\n",
       "       [0],\n",
       "       [0],\n",
       "       [1],\n",
       "       [0],\n",
       "       [1],\n",
       "       [0],\n",
       "       [0],\n",
       "       [1],\n",
       "       [0],\n",
       "       [1],\n",
       "       [0],\n",
       "       [1],\n",
       "       [0]])"
      ]
     },
     "execution_count": 40,
     "metadata": {},
     "output_type": "execute_result"
    }
   ],
   "source": [
    "import numpy as np\n",
    "y_log=model.predict(x_test)\n",
    "y_pred=np.where(y_log>0.5,1,0)\n",
    "y_pred"
   ]
  },
  {
   "cell_type": "code",
   "execution_count": 41,
   "id": "856ac300",
   "metadata": {},
   "outputs": [
    {
     "data": {
      "text/plain": [
       "0.8375"
      ]
     },
     "execution_count": 41,
     "metadata": {},
     "output_type": "execute_result"
    }
   ],
   "source": [
    "from sklearn.metrics import accuracy_score\n",
    "accuracy_score(y_test,y_pred)"
   ]
  },
  {
   "cell_type": "code",
   "execution_count": 42,
   "id": "20900f41",
   "metadata": {},
   "outputs": [
    {
     "data": {
      "text/plain": [
       "<tf.Tensor: shape=(2, 2), dtype=int32, numpy=\n",
       "array([[46,  2],\n",
       "       [11, 21]])>"
      ]
     },
     "execution_count": 42,
     "metadata": {},
     "output_type": "execute_result"
    }
   ],
   "source": [
    "cm=tf.math.confusion_matrix(labels=y_test,predictions=y_pred)\n",
    "cm"
   ]
  },
  {
   "cell_type": "code",
   "execution_count": 43,
   "id": "2ac4457b",
   "metadata": {},
   "outputs": [
    {
     "data": {
      "text/plain": [
       "Text(69.0, 0.5, 'Truth')"
      ]
     },
     "execution_count": 43,
     "metadata": {},
     "output_type": "execute_result"
    },
    {
     "data": {
      "image/png": "[encoded data removed]",
      "text/plain": [
       "<Figure size 720x504 with 2 Axes>"
      ]
     },
     "metadata": {
      "needs_background": "light"
     },
     "output_type": "display_data"
    }
   ],
   "source": [
    "import seaborn as sn\n",
    "plt.figure(figsize=(10,7))\n",
    "sn.heatmap(cm, annot=True,fmt='d')\n",
    "plt.xlabel('predicted')\n",
    "plt.ylabel('Truth')"
   ]
  },
  {
   "cell_type": "code",
   "execution_count": null,
   "id": "66065bff",
   "metadata": {},
   "outputs": [],
   "source": []
  }
 ],
 "metadata": {
  "kernelspec": {
   "display_name": "Python 3 (ipykernel)",
   "language": "python",
   "name": "python3"
  },
  "language_info": {
   "codemirror_mode": {
    "name": "ipython",
    "version": 3
   },
   "file_extension": ".py",
   "mimetype": "text/x-python",
   "name": "python",
   "nbconvert_exporter": "python",
   "pygments_lexer": "ipython3",
   "version": "3.9.7"
  }
 },
 "nbformat": 4,
 "nbformat_minor": 5
}
